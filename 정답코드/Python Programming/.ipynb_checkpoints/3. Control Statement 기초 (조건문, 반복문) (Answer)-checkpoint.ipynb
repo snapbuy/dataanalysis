{
 "cells": [
  {
   "cell_type": "markdown",
   "metadata": {},
   "source": [
    "# 3. Control Statement"
   ]
  },
  {
   "cell_type": "markdown",
   "metadata": {},
   "source": [
    "![control_statement](../images/python/breakFlowchart.jpg)"
   ]
  },
  {
   "cell_type": "markdown",
   "metadata": {},
   "source": [
    "## Control statement란?\n",
    "\n",
    "- 프로그램의 흐름을 제어하는 명령어를 말한다.\n",
    "\n",
    "\n",
    "- 조건과 반복에 따라서 프로그램의 진행 과정이 바뀌게 된다.\n",
    "\n",
    "\n",
    "- 조건(Conditional Statement)로는 if문이 있다.\n",
    "\n",
    "\n",
    "- 반복(Iterative Statement)로는 while, for문이 있다.\n",
    "\n",
    "\n",
    "- 사실상 프로그래밍이란 데이터를 사용자가 원하는대로 제어하여 원하는 결과를 내는 과정을 얘기한다."
   ]
  },
  {
   "cell_type": "markdown",
   "metadata": {},
   "source": [
    "## 3.1 If statement (조건문)"
   ]
  },
  {
   "cell_type": "markdown",
   "metadata": {},
   "source": [
    "- 프로그램에서 가장 중요한 조건 판단이다.\n",
    "\n",
    "\n",
    "- 모든 프로그램은 조건을 판단하여 다음 진행 과정을 결정한다.\n",
    "\n",
    "\n",
    "- 파이썬은 if, elif, else 구문을 이용하여 조건을 사용할 수 있다."
   ]
  },
  {
   "cell_type": "markdown",
   "metadata": {},
   "source": [
    "> 간단한 예시를 생각해보자. **자판기에 들어갈 프로그램을 만들어야 한다.** 자판기에 입력된 돈이 300원이면 커피를 주고, 300원보다 적은 경우엔 돈을 그냥 돌려주고, 300원보다 많은 경우에는 커피와 함께 거스름돈을 주어야 한다. 이를 어떻게 구현할 수 있을까?"
   ]
  },
  {
   "cell_type": "markdown",
   "metadata": {},
   "source": [
    "- 파이썬에서 if문을 사용하는 방법"
   ]
  },
  {
   "cell_type": "code",
   "execution_count": 1,
   "metadata": {},
   "outputs": [
    {
     "name": "stdout",
     "output_type": "stream",
     "text": [
      "True\n"
     ]
    }
   ],
   "source": [
    "a = 5\n",
    "# a가 5인데, a가 5와 같으면, True를 출력하고 싶다.\n",
    "\n",
    "# colon(:)이 중요하다. 꼭 써주어야한다.\n",
    "    print(\"True\")"
   ]
  },
  {
   "cell_type": "markdown",
   "metadata": {},
   "source": [
    "> 조건문을 사용하기 위해선, 비교연산과 논리연산을 알아야 한다."
   ]
  },
  {
   "cell_type": "markdown",
   "metadata": {},
   "source": [
    "![comparison](../images/python/python_comparison.png)"
   ]
  },
  {
   "cell_type": "markdown",
   "metadata": {},
   "source": [
    "> 비교연산과 논리연산의 공통점은 결과가 참(True) 또는 거짓(False)라는 것이다."
   ]
  },
  {
   "cell_type": "markdown",
   "metadata": {},
   "source": [
    "![control_statement](../images/python/python_logical1.png)"
   ]
  },
  {
   "cell_type": "markdown",
   "metadata": {},
   "source": [
    "![logical2](../images/python/python_logical2.png)"
   ]
  },
  {
   "cell_type": "markdown",
   "metadata": {},
   "source": [
    "#### 자판기를 만들어보자."
   ]
  },
  {
   "cell_type": "markdown",
   "metadata": {},
   "source": [
    "> *REMIND*\n",
    "\n",
    "> **자판기에 들어갈 프로그램을 만들어야 한다.** 자판기에 입력된 돈이 300원이면 커피를 주고, 300원보다 적은 경우엔 돈을 그냥 돌려주고, 300원보다 많은 경우에는 커피와 함께 거스름돈을 주어야 한다. 이를 어떻게 구현할 수 있을까?"
   ]
  },
  {
   "cell_type": "code",
   "execution_count": 2,
   "metadata": {},
   "outputs": [
    {
     "name": "stdout",
     "output_type": "stream",
     "text": [
      "Coffee\n"
     ]
    }
   ],
   "source": [
    "money = 300\n",
    "# 돈이 300원인데, 돈이 300원이랑 같으면 coffee를 준다.\n",
    "\n",
    "if money == 300:\n",
    "    print(\"Coffee\") # 실제로 이 파트는 자판기에서 커피를 뽑는 명령으로 대체된다."
   ]
  },
  {
   "cell_type": "code",
   "execution_count": 3,
   "metadata": {},
   "outputs": [
    {
     "name": "stdout",
     "output_type": "stream",
     "text": [
      "Return 200\n"
     ]
    }
   ],
   "source": [
    "money = 200\n",
    "# 돈이 200원 있다. 그러면 어떻게 해야할까?\n",
    "\n",
    "if money < 300:\n",
    "    print(\"Return 200\") # 실제로 이 파트는 돈을 반환한다."
   ]
  },
  {
   "cell_type": "code",
   "execution_count": 4,
   "metadata": {},
   "outputs": [
    {
     "name": "stdout",
     "output_type": "stream",
     "text": [
      "Coffee\n",
      "Return 700\n"
     ]
    }
   ],
   "source": [
    "money = 1000\n",
    "# 돈이 1000원이 있는 경우에는?\n",
    "\n",
    "if money > 300:\n",
    "    print(\"Coffee\") # 커피를 뽑아주고\n",
    "    print(\"Return %d\" % (money - 300)) # 거스름돈을 돌려준다."
   ]
  },
  {
   "cell_type": "markdown",
   "metadata": {},
   "source": [
    "#### 자판기 코드 다시 생각해보기\n",
    "\n",
    "> if문에는 if가 아닌 경우에 해당하는 조건을 체크할 수 있는 elif(else if) 구문이 있다.\n",
    "\n",
    "> 모든 if, elif 조건에 체크되지 않는 나머지 경우를 처리하는 else 구문도 있다.\n",
    "\n",
    "**이를 자판기 예제에 다시 적용해보자.**"
   ]
  },
  {
   "cell_type": "code",
   "execution_count": 5,
   "metadata": {},
   "outputs": [
    {
     "name": "stdout",
     "output_type": "stream",
     "text": [
      "Coffee\n",
      "Return 700\n"
     ]
    }
   ],
   "source": [
    "money = 1000\n",
    "# 돈이 300원인데, 돈이 300원이랑 같으면 coffee를 준다.\n",
    "\n",
    "if money == 300:\n",
    "    print(\"Coffee\") # 실제로 이 파트는 자판기에서 커피를 뽑는 명령으로 대체된다.\n",
    "elif money < 300:\n",
    "    print(\"Return %d\" % money) # 실제로 이 파트는 돈을 반환한다.\n",
    "else: # or elif money > 300:\n",
    "    print(\"Coffee\") # 커피를 뽑아주고\n",
    "    print(\"Return %d\" % (money - 300)) # 거스름돈을 돌려준다."
   ]
  },
  {
   "cell_type": "markdown",
   "metadata": {},
   "source": [
    " "
   ]
  },
  {
   "cell_type": "markdown",
   "metadata": {},
   "source": [
    " "
   ]
  },
  {
   "cell_type": "markdown",
   "metadata": {},
   "source": [
    " "
   ]
  },
  {
   "cell_type": "markdown",
   "metadata": {},
   "source": [
    "## 3.2 Iterative Statement (반복문)"
   ]
  },
  {
   "cell_type": "markdown",
   "metadata": {},
   "source": [
    "- 프로그램에서 가장 중요한 반복이다.\n",
    "\n",
    "\n",
    "- 프로그램의 기본적인 역할인 노가다를 담당한다. 비슷한 작업을 반복한다.\n",
    "\n",
    "\n",
    "- 파이썬에서는 while, for 2가지의 statement를 제공한다."
   ]
  },
  {
   "cell_type": "markdown",
   "metadata": {},
   "source": [
    "### 3.2.1 While statement"
   ]
  },
  {
   "cell_type": "markdown",
   "metadata": {},
   "source": [
    "- while문은 **조건을 만족할 때 까지 반복**한다.\n",
    "\n",
    "\n",
    "- while (조건):\n",
    "       <statement1>\n",
    "       <statement2>\n",
    "       <statement3>\n",
    "           \n",
    "- 조건이 만족하는 동안(while) statement1, 2, 3을 반복한다."
   ]
  },
  {
   "cell_type": "markdown",
   "metadata": {},
   "source": [
    "#### 열 번 찍어 안넘어가는 나무없다는 예제를 풀어보자."
   ]
  },
  {
   "cell_type": "code",
   "execution_count": 6,
   "metadata": {},
   "outputs": [
    {
     "name": "stdout",
     "output_type": "stream",
     "text": [
      "나무를 1번 찍었습니다.\n",
      "나무를 2번 찍었습니다.\n",
      "나무를 3번 찍었습니다.\n",
      "나무를 4번 찍었습니다.\n",
      "나무를 5번 찍었습니다.\n",
      "나무를 6번 찍었습니다.\n",
      "나무를 7번 찍었습니다.\n",
      "나무를 8번 찍었습니다.\n",
      "나무를 9번 찍었습니다.\n",
      "나무를 10번 찍었습니다.\n",
      "나무 넘어갑니다.\n"
     ]
    }
   ],
   "source": [
    "treeHit = 0\n",
    "\n",
    "while treeHit < 10: # treeHit이 10보다 작은 동안\n",
    "    treeHit = treeHit +1\n",
    "    print(\"나무를 %d번 찍었습니다.\" % treeHit)\n",
    "    if treeHit == 10:\n",
    "        print(\"나무 넘어갑니다.\")"
   ]
  },
  {
   "cell_type": "markdown",
   "metadata": {},
   "source": [
    "![while](../images/python/while_treeHit.png)"
   ]
  },
  {
   "cell_type": "markdown",
   "metadata": {},
   "source": [
    "#### 실제 자판기 기계는 돈을 한번 넣고 종료되지 않는다. 자판기 기계(프로그램)이 종료되는 경우는 커피가 다 떨어졌을 때이다.\n",
    "\n",
    "> Q. 커피가 다 질때까지 자판기 프로그램을 반복하면서 실행한 뒤, 돈을 입력받아서 커피를 주는 프로그램을 작성해보자."
   ]
  },
  {
   "cell_type": "code",
   "execution_count": 7,
   "metadata": {},
   "outputs": [
    {
     "name": "stdout",
     "output_type": "stream",
     "text": [
      "Insert Money : 300\n",
      "Coffee\n",
      "Insert Money : 5000\n",
      "Coffee\n",
      "Return 4700\n",
      "Insert Money : 500\n",
      "Coffee\n",
      "Return 200\n",
      "Insert Money : 20\n",
      "Return 20\n",
      "Insert Money : 300\n",
      "Coffee\n",
      "Insert Money : 200\n",
      "Return 200\n",
      "Insert Money : 300\n",
      "Coffee\n",
      "Insert Money : 5000\n",
      "Coffee\n",
      "Return 4700\n",
      "Insert Money : 60\n",
      "Return 60\n",
      "Insert Money : 350\n",
      "Coffee\n",
      "Return 50\n",
      "Insert Money : 50\n",
      "Return 50\n",
      "Insert Money : 300\n",
      "Coffee\n",
      "Insert Money : 400\n",
      "Coffee\n",
      "Return 100\n",
      "Insert Money : 400\n",
      "Coffee\n",
      "Return 100\n",
      "There is no more coffee. Call to administrator of this machine.\n"
     ]
    }
   ],
   "source": [
    "coffee = 10 # 자판기의 커피 수량\n",
    "\n",
    "while coffee > 0: # 커피 수량이 없는 경우.\n",
    "    money = int(input(\"Insert Money : \")) # 실제로는 자판기를 통해서 넣은 금액.\n",
    "    \n",
    "    if money == 300:\n",
    "        print(\"Coffee\") # 실제로 이 파트는 자판기에서 커피를 뽑는 명령으로 대체된다.\n",
    "        coffee = coffee - 1 # 이제 커피를 하나씩 줄인다.\n",
    "    elif money < 300:\n",
    "        print(\"Return %d\" % money) # 실제로 이 파트는 돈을 반환한다.\n",
    "    else: # or elif money > 300:\n",
    "        print(\"Coffee\") # 커피를 뽑아주고\n",
    "        coffee = coffee - 1 # 이제 커피를 하나씩 줄인다.\n",
    "        print(\"Return %d\" % (money - 300)) # 거스름돈을 돌려준다.\n",
    "        \n",
    "    if coffee == 0: # 커피가 다 떨어진 경우 알려야한다.\n",
    "        print(\"There is no more coffee. Call to administrator of this machine.\")"
   ]
  },
  {
   "cell_type": "markdown",
   "metadata": {},
   "source": [
    "### 3.2.2 for statement"
   ]
  },
  {
   "cell_type": "markdown",
   "metadata": {},
   "source": [
    "- while문은 조건이 만족하는 동안 반복을 수행했지만, for문은 지정 횟수동안 반복을 수행한다.\n",
    "\n",
    "- 보통 iteratable object(반복 가능한 객체)를 대상으로 수행되며, 연속형 데이터 타입 변수들이 여기에 해당된다.\n",
    "\n",
    "- for 변수 in 리스트(튜플, 문자열, iterator):\n",
    "      <statement1>\n",
    "      <statement2>\n",
    "      <statement3>\n",
    "          \n",
    "- 리스트(나 반복가능한 변수들)의 모든 원소를 (자동으로 끝까지) 반복한다."
   ]
  },
  {
   "cell_type": "code",
   "execution_count": 8,
   "metadata": {},
   "outputs": [
    {
     "name": "stdout",
     "output_type": "stream",
     "text": [
      "1\n",
      "2\n",
      "3\n"
     ]
    }
   ],
   "source": [
    "# 원소가 1, 2, 3인 리스트의 원소를 하나하나 출력하는 반복문을 만든다.\n",
    "L = [1, 2, 3]\n",
    "\n",
    "for i in L:\n",
    "    print(i)"
   ]
  },
  {
   "cell_type": "markdown",
   "metadata": {},
   "source": [
    "#### 5명의 학생의 중간고사 성적이 있다. 60점이 넘는 학생들은 \"합격\", 그렇지 못한 학생들은 \"불합격\"을 통보하는 프로그램을 반복문을 통해 작성해보자."
   ]
  },
  {
   "cell_type": "code",
   "execution_count": 9,
   "metadata": {},
   "outputs": [
    {
     "name": "stdout",
     "output_type": "stream",
     "text": [
      "1번 학생은 합격입니다.\n",
      "2번 학생은 불합격입니다.\n",
      "3번 학생은 합격입니다.\n",
      "4번 학생은 불합격입니다.\n",
      "5번 학생은 합격입니다.\n"
     ]
    }
   ],
   "source": [
    "scores = [90, 25, 67, 45, 80]\n",
    "\n",
    "number = 0\n",
    "for score in scores:\n",
    "    number = number +1\n",
    "    if score >= 60:\n",
    "        print(\"%d번 학생은 합격입니다.\" % number)\n",
    "    else: \n",
    "        print(\"%d번 학생은 불합격입니다.\" % number)"
   ]
  },
  {
   "cell_type": "markdown",
   "metadata": {},
   "source": [
    "#### for문의 단짝 range() 함수"
   ]
  },
  {
   "cell_type": "markdown",
   "metadata": {},
   "source": [
    "- for문은 특정 횟수동안 반복을 하기 때문에, 횟수를 자동으로 만들어주는 기능이 있으면 좋다.\n",
    "\n",
    "- 파이썬에서 기본적으로 제공하는 range 함수는 특정 숫자 범위내의 값들을 자동으로 생성해주는 함수이다.\n",
    "\n",
    "\n",
    "e.g. range(1, 5)는 1, 2, 3, 4를 차례대로 생성해준다. (5는 범위에서 제외된다. 즉, 마지막 숫자는 제외된다. 1 <= x < 5)"
   ]
  },
  {
   "cell_type": "code",
   "execution_count": 10,
   "metadata": {},
   "outputs": [
    {
     "data": {
      "text/plain": [
       "range(1, 5)"
      ]
     },
     "execution_count": 10,
     "metadata": {},
     "output_type": "execute_result"
    }
   ],
   "source": [
    "range(1, 5)"
   ]
  },
  {
   "cell_type": "code",
   "execution_count": 11,
   "metadata": {},
   "outputs": [
    {
     "data": {
      "text/plain": [
       "[1, 2, 3, 4]"
      ]
     },
     "execution_count": 11,
     "metadata": {},
     "output_type": "execute_result"
    }
   ],
   "source": [
    "list(range(1, 5))"
   ]
  },
  {
   "cell_type": "code",
   "execution_count": 12,
   "metadata": {},
   "outputs": [
    {
     "name": "stdout",
     "output_type": "stream",
     "text": [
      "1\n",
      "2\n",
      "3\n",
      "4\n"
     ]
    }
   ],
   "source": [
    "for i in range(1, 5): # 1, 2, 3, 4\n",
    "    print(i)"
   ]
  },
  {
   "cell_type": "markdown",
   "metadata": {},
   "source": [
    "#### RE : 5명의 학생의 중간고사 성적이 있다. 60점이 넘는 학생들은 \"합격\", 그렇지 못한 학생들은 \"불합격\"을 통보하는 프로그램을 반복문을 통해 작성해보자."
   ]
  },
  {
   "cell_type": "code",
   "execution_count": 13,
   "metadata": {},
   "outputs": [
    {
     "name": "stdout",
     "output_type": "stream",
     "text": [
      "1번 학생은 합격입니다.\n",
      "2번 학생은 불합격입니다.\n",
      "3번 학생은 합격입니다.\n",
      "4번 학생은 불합격입니다.\n",
      "5번 학생은 합격입니다.\n"
     ]
    }
   ],
   "source": [
    "scores = [90, 25, 67, 45, 80]\n",
    "\n",
    "number = 0\n",
    "for i in range(len(scores)): # range를 사용하여 위의 코드를 바꿀 수 있다.\n",
    "    number = number +1\n",
    "    if scores[i] >= 60:\n",
    "        print(\"%d번 학생은 합격입니다.\" % number)\n",
    "    else: \n",
    "        print(\"%d번 학생은 불합격입니다.\" % number)"
   ]
  },
  {
   "cell_type": "markdown",
   "metadata": {},
   "source": [
    "#### 반복문을 제어하는 break, continue"
   ]
  },
  {
   "cell_type": "markdown",
   "metadata": {},
   "source": [
    "- 만약 반복문을 수행하다가 더 이상 반복이 필요없는 경우에는 어떻게 해야할까?\n",
    "\n",
    "> **break statement**\n",
    "\n",
    "- 만약 반복문을 수행하다가 특정 조건에만 건너뛰고 싶은 경우에는 어떻게 해야할까?\n",
    "\n",
    "> **continue statement**"
   ]
  },
  {
   "cell_type": "markdown",
   "metadata": {},
   "source": [
    "#### RE : 실제 자판기 기계는 돈을 한번 넣고 종료되지 않는다. 자판기 기계(프로그램)이 종료되는 경우는 커피가 다 떨어졌을 때이다.\n",
    "\n",
    "> Q. 커피가 다 질때까지 자판기 프로그램을 반복하면서 실행한 뒤, 돈을 입력받아서 커피를 주는 프로그램을 작성해보자."
   ]
  },
  {
   "cell_type": "code",
   "execution_count": 14,
   "metadata": {},
   "outputs": [
    {
     "name": "stdout",
     "output_type": "stream",
     "text": [
      "Insert Money : 300\n",
      "Coffee\n",
      "Insert Money : 500\n",
      "Coffee\n",
      "Return 200\n",
      "Insert Money : 3400\n",
      "Coffee\n",
      "Return 3100\n",
      "Insert Money : 500\n",
      "Coffee\n",
      "Return 200\n",
      "Insert Money : 300\n",
      "Coffee\n",
      "Insert Money : 20\n",
      "Return 20\n",
      "Insert Money : 300\n",
      "Coffee\n",
      "Insert Money : 5002\n",
      "Coffee\n",
      "Return 4702\n",
      "Insert Money : 300\n",
      "Coffee\n",
      "Insert Money : 300\n",
      "Coffee\n",
      "Insert Money : 300\n",
      "Coffee\n",
      "There is no more coffee. Call to administrator of this machine.\n"
     ]
    }
   ],
   "source": [
    "coffee = 10 # 자판기의 커피 수량\n",
    "\n",
    "while True: # 항상 조건이 참이므로, 영원히 반복된다. 이와 같은 경우를 infinite loop라고 한다.\n",
    "    money = int(input(\"Insert Money : \")) # 실제로는 자판기를 통해서 넣은 금액.\n",
    "    \n",
    "    if money == 300:\n",
    "        print(\"Coffee\") # 실제로 이 파트는 자판기에서 커피를 뽑는 명령으로 대체된다.\n",
    "        coffee = coffee - 1 # 이제 커피를 하나씩 줄인다.\n",
    "    elif money < 300:\n",
    "        print(\"Return %d\" % money) # 실제로 이 파트는 돈을 반환한다.\n",
    "    else: # or elif money > 300:\n",
    "        print(\"Coffee\") # 커피를 뽑아주고\n",
    "        coffee = coffee - 1 # 이제 커피를 하나씩 줄인다.\n",
    "        print(\"Return %d\" % (money - 300)) # 거스름돈을 돌려준다.\n",
    "        \n",
    "    if coffee == 0: # 커피가 다 떨어진 경우 알려야한다.\n",
    "        print(\"There is no more coffee. Call to administrator of this machine.\")\n",
    "        break # 커피가 다 떨어졌으니 반복을 그만한다. 탈출!"
   ]
  },
  {
   "cell_type": "markdown",
   "metadata": {},
   "source": [
    "#### REVISE : 5명의 학생의 중간고사 성적이 있다. 60점이 넘는 학생들만 \"합격\"을 통보해주는 프로그램을 반복문으로 작성해보자."
   ]
  },
  {
   "cell_type": "code",
   "execution_count": 15,
   "metadata": {},
   "outputs": [
    {
     "name": "stdout",
     "output_type": "stream",
     "text": [
      "1번 학생은 합격입니다.\n",
      "3번 학생은 합격입니다.\n",
      "5번 학생은 합격입니다.\n"
     ]
    }
   ],
   "source": [
    "scores = [90, 25, 67, 45, 80]\n",
    "\n",
    "number = 0\n",
    "for score in scores:\n",
    "    number = number +1\n",
    "    if score < 60: # 60점 미만인 경우 넘어간다. 즉, print문을 지나친다.\n",
    "        continue\n",
    "    else:\n",
    "        print(\"%d번 학생은 합격입니다.\" % number)"
   ]
  },
  {
   "cell_type": "markdown",
   "metadata": {},
   "source": [
    "#### 전설의 구구단 구현."
   ]
  },
  {
   "cell_type": "code",
   "execution_count": 16,
   "metadata": {},
   "outputs": [
    {
     "name": "stdout",
     "output_type": "stream",
     "text": [
      "----------\n",
      "2 X 1 =  2\n",
      "2 X 2 =  4\n",
      "2 X 3 =  6\n",
      "2 X 4 =  8\n",
      "2 X 5 = 10\n",
      "2 X 6 = 12\n",
      "2 X 7 = 14\n",
      "2 X 8 = 16\n",
      "2 X 9 = 18\n",
      "----------\n",
      "3 X 1 =  3\n",
      "3 X 2 =  6\n",
      "3 X 3 =  9\n",
      "3 X 4 = 12\n",
      "3 X 5 = 15\n",
      "3 X 6 = 18\n",
      "3 X 7 = 21\n",
      "3 X 8 = 24\n",
      "3 X 9 = 27\n",
      "----------\n",
      "4 X 1 =  4\n",
      "4 X 2 =  8\n",
      "4 X 3 = 12\n",
      "4 X 4 = 16\n",
      "4 X 5 = 20\n",
      "4 X 6 = 24\n",
      "4 X 7 = 28\n",
      "4 X 8 = 32\n",
      "4 X 9 = 36\n",
      "----------\n",
      "5 X 1 =  5\n",
      "5 X 2 = 10\n",
      "5 X 3 = 15\n",
      "5 X 4 = 20\n",
      "5 X 5 = 25\n",
      "5 X 6 = 30\n",
      "5 X 7 = 35\n",
      "5 X 8 = 40\n",
      "5 X 9 = 45\n",
      "----------\n",
      "6 X 1 =  6\n",
      "6 X 2 = 12\n",
      "6 X 3 = 18\n",
      "6 X 4 = 24\n",
      "6 X 5 = 30\n",
      "6 X 6 = 36\n",
      "6 X 7 = 42\n",
      "6 X 8 = 48\n",
      "6 X 9 = 54\n",
      "----------\n",
      "7 X 1 =  7\n",
      "7 X 2 = 14\n",
      "7 X 3 = 21\n",
      "7 X 4 = 28\n",
      "7 X 5 = 35\n",
      "7 X 6 = 42\n",
      "7 X 7 = 49\n",
      "7 X 8 = 56\n",
      "7 X 9 = 63\n",
      "----------\n",
      "8 X 1 =  8\n",
      "8 X 2 = 16\n",
      "8 X 3 = 24\n",
      "8 X 4 = 32\n",
      "8 X 5 = 40\n",
      "8 X 6 = 48\n",
      "8 X 7 = 56\n",
      "8 X 8 = 64\n",
      "8 X 9 = 72\n",
      "----------\n",
      "9 X 1 =  9\n",
      "9 X 2 = 18\n",
      "9 X 3 = 27\n",
      "9 X 4 = 36\n",
      "9 X 5 = 45\n",
      "9 X 6 = 54\n",
      "9 X 7 = 63\n",
      "9 X 8 = 72\n",
      "9 X 9 = 81\n"
     ]
    }
   ],
   "source": [
    "for i in range(2, 10):\n",
    "    print(\"-\" * 10)\n",
    "    for j in range(1, 10): # 이와 같은 경우를 nested loop라고 한다.\n",
    "        print(\"%d X %d = %2d\" % (i, j, i*j))"
   ]
  }
 ],
 "metadata": {
  "kernelspec": {
   "display_name": "Python 3",
   "language": "python",
   "name": "python3"
  },
  "language_info": {
   "codemirror_mode": {
    "name": "ipython",
    "version": 3
   },
   "file_extension": ".py",
   "mimetype": "text/x-python",
   "name": "python",
   "nbconvert_exporter": "python",
   "pygments_lexer": "ipython3",
   "version": "3.6.9"
  }
 },
 "nbformat": 4,
 "nbformat_minor": 2
}
