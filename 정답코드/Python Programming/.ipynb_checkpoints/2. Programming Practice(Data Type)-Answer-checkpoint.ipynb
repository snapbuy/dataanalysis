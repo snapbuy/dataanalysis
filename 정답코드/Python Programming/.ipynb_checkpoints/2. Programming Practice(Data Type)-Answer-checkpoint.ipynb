{
 "cells": [
  {
   "cell_type": "markdown",
   "metadata": {},
   "source": [
    "## 문제 1.  학점계산기\n",
    "\n",
    "- 영희는 1학기 중간고사의 학점을 알고 싶다.\n",
    "- 영희가 중간고사 때 수강한 과목과 학점은 다음과 같다.\n",
    "\n",
    "| 글쓰기(3) | 미적분학I(3) | 영문법특강(2) | 컴퓨팅사고력(3) |\n",
    "| --- | --- | --- | --- |\n",
    "| A | C | B+ | A+ |\n",
    "\n",
    "- 과목이름 옆 괄호에 있는 숫자는 학점 수이고, 4.5만점 기준으로 성적이 계산된다.\n",
    "> e.g. <b>A+ : 4.5,   A : 4.0,   B+ : 3.5,   B : 3.0,   C+ : 2.5,   C : 2.0,   F : 0</b>\n",
    "\n",
    "- 계산 공식은 다음과 같다.\n",
    "> (3 x A + 3 x C + 2 x B+ + 3 x A+) / (3+3+2+3) = (3 x 4.5 + 3 x 2.0 + 2 x 3.5 + 3 x 4.0) / 11"
   ]
  },
  {
   "cell_type": "code",
   "execution_count": 1,
   "metadata": {},
   "outputs": [
    {
     "name": "stdout",
     "output_type": "stream",
     "text": [
      "3.5\n"
     ]
    }
   ],
   "source": [
    "# 문제1의 코드를 작성하세요.\n",
    "Ap = 4.5; A = 4.0; Bp = 3.5; C = 2.0\n",
    "gpa = (3*A + 3*C + 2*Bp + 3*Ap) / 11 \n",
    "print(gpa)"
   ]
  },
  {
   "cell_type": "markdown",
   "metadata": {},
   "source": [
    "## 문제2. 십의 자리 구하기\n",
    "\n",
    "* 숫자 하나를 입력받는다. (단, 입력하는 숫자는 무조건 두 자리 이상의 자연수)\n",
    "* 입력 받은 숫자의 십의 자리 숫자를 출력한다."
   ]
  },
  {
   "cell_type": "code",
   "execution_count": 2,
   "metadata": {},
   "outputs": [
    {
     "name": "stdout",
     "output_type": "stream",
     "text": [
      "숫자를 입력해주세요 : 123456789012\n",
      "1\n"
     ]
    }
   ],
   "source": [
    "# 문제2의 코드를 작성하세요.\n",
    "number = int(input(\"숫자를 입력해주세요 : \"))\n",
    "# str으로 하는 방법\n",
    "tens = str(number)[-2]\n",
    "# 숫자 연산을 통한 방법\n",
    "tens = number % 100 // 10\n",
    "print(tens)"
   ]
  },
  {
   "cell_type": "markdown",
   "metadata": {},
   "source": [
    "## 문제3. 주민등록번호 가리기\n",
    "\n",
    "* 주민등록번호가 하나 주어집니다.\n",
    "* 요즘은 보안이 생명입니다. 뒤에 6자리를 *로 만들어서 소중한 정보를 지키세요!"
   ]
  },
  {
   "cell_type": "code",
   "execution_count": 3,
   "metadata": {},
   "outputs": [
    {
     "name": "stdout",
     "output_type": "stream",
     "text": [
      "911210-1******\n"
     ]
    }
   ],
   "source": [
    "# 문제3의 코드를 작성하세요. 밑의 4가지중 아무거나 사용하시면 됩니다.\n",
    "oldman_id = \"911210-1234567\"\n",
    "oldwoman_id = \"900101-2111111\"\n",
    "youngman_id = \"200112-3111111\"\n",
    "youngwoman_id = \"200112-4123987\"\n",
    "\n",
    "secured_id = oldman_id[:-6] + \"*\"*6\n",
    "print(secured_id)"
   ]
  },
  {
   "cell_type": "markdown",
   "metadata": {},
   "source": [
    "## 문제4. 키 순으로 줄세우기\n",
    "\n",
    "* 어떤 학급의 아이 5명의 키에 대한 정보가 주어집니다.\n",
    "* 이를 키가 작은 순서부터 큰 순서로 정렬하여 출력해주세요."
   ]
  },
  {
   "cell_type": "code",
   "execution_count": 4,
   "metadata": {},
   "outputs": [
    {
     "name": "stdout",
     "output_type": "stream",
     "text": [
      "[146, 160, 167, 175.3, 184]\n"
     ]
    }
   ],
   "source": [
    "# 문제4의 코드를 작성하세요.\n",
    "heights = [175.3, 146, 184, 160, 167]\n",
    "sorted_heights = sorted(heights)\n",
    "print(sorted_heights)"
   ]
  },
  {
   "cell_type": "markdown",
   "metadata": {},
   "source": [
    "## 문제5. codebook 만들기\n",
    "\n",
    "* 다음 표와 같이 주어진 문자열을 숫자로 바꾸는 암호화를 진행하려고 합니다.\n",
    "* 암호화를 할 수 있는 codebook을 만들어봅시다!\n",
    "\n",
    "| string | code |\n",
    "| --- | --- |\n",
    "| \"John\" | 0011 |\n",
    "| \"Maria\" | 1234 |\n",
    "| \"Steve\" | 0000 |\n",
    "| \"Kim\" | 9999 |\n",
    "| \"XXX\" | 1004 |\n",
    "\n",
    "> Q. 어떤 자료형을 사용해야 할까요?\n",
    "\n",
    "> A. 사전(Dictionary)"
   ]
  },
  {
   "cell_type": "code",
   "execution_count": 5,
   "metadata": {},
   "outputs": [
    {
     "name": "stdout",
     "output_type": "stream",
     "text": [
      "0011 is going to shopping with 1234 0000 will be down 9999 and 1004 prepare essential materials \n"
     ]
    }
   ],
   "source": [
    "# 문제5의 코드를 작성하세요.\n",
    "codebook = {\"John\" : \"0011\", \"Maria\" : \"1234\", \"Steve\" : \"0000\", \"Kim\" : \"9999\", 'XXX' : \"1004\"}\n",
    "\n",
    "# (OPTIONAL) 실제 문자가 주어졌을 때, codebook을 사용하여 숫자로 바꿀 수 있을까요?\n",
    "script = \"John is going to shopping with Maria. Steve will be down. Kim and XXX prepare essential materials.\"\n",
    "script = script.replace(\".\", \"\")\n",
    "cyphered = \"\"\n",
    "for word in script.split():\n",
    "    try:\n",
    "        cyphered = cyphered + codebook[word] + \" \"\n",
    "    except:\n",
    "        cyphered = cyphered + word + \" \"\n",
    "#cyphered = [codebook[word] for word in script.split() if word in codebook.keys()]\n",
    "print(cyphered)"
   ]
  },
  {
   "cell_type": "code",
   "execution_count": null,
   "metadata": {},
   "outputs": [],
   "source": []
  }
 ],
 "metadata": {
  "kernelspec": {
   "display_name": "Python 3",
   "language": "python",
   "name": "python3"
  },
  "language_info": {
   "codemirror_mode": {
    "name": "ipython",
    "version": 3
   },
   "file_extension": ".py",
   "mimetype": "text/x-python",
   "name": "python",
   "nbconvert_exporter": "python",
   "pygments_lexer": "ipython3",
   "version": "3.6.9"
  }
 },
 "nbformat": 4,
 "nbformat_minor": 2
}
