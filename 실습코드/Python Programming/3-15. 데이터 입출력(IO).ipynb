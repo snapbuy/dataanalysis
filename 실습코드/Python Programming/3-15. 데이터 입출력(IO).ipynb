{
 "cells": [
  {
   "cell_type": "markdown",
   "metadata": {
    "id": "7KaEFFwmaz9f"
   },
   "source": [
    "# 5. I/O (Input / Output) "
   ]
  },
  {
   "cell_type": "markdown",
   "metadata": {
    "id": "WyMfCdGSaz9n"
   },
   "source": [
    "## I/O란?\n",
    "\n",
    "\n",
    "- 프로그램 입장에서 들어오는 모든 데이터를 input, 나가는 모든 데이터를 output이라고 한다.\n",
    "> 메인 메모리 입장에서 생각하는 들어오고 나가는 모든 데이터에 대해서 I/O 처리라고 부릅니다. (단, CPU와의 소통은 제외)\n",
    "\n",
    "\n",
    "- 사용자로 부터 키보드로 입력받는 것을 stdin이라고 하며, 사용자에게 다시 모니터로 출력되는 것을 stdout이라고 한다.\n",
    "\n",
    "> 통상적으로는 Unix 환경(터미널 환경)에서 부르던 용어인데, 프로그래밍에 자주 등장하기 때문에 소개한다.\n",
    "\n",
    "\n",
    "- 프로그램은 메인 메모리 상에 존재하기 때문에, 스토리지로부터 파일을 불러오는 것도 input이고, 프로그램의 결과를 스토리지에 저장하는 것도 output이다. 이러한 작업을 file I/O로 통칭한다.\n",
    "> 스토리지와 프로그램 사이의 I/O를 file I/O라고 합니다.\n",
    "\n",
    "\n",
    "- 파이썬에서 stdin/out을 사용하는 방법과 file I/O를 사용하는 방법에 대해 간단하게 알아본다."
   ]
  },
  {
   "cell_type": "markdown",
   "metadata": {
    "id": "Ob-m8XQbaz9o"
   },
   "source": [
    "## 5.1 STDIN / STDOUT (Standard IN, Standard OUT)"
   ]
  },
  {
   "cell_type": "markdown",
   "metadata": {
    "id": "I9B1Br_0az9o"
   },
   "source": [
    "- 파이썬은 input()을 통해서 stdin을 사용자로부터 입력받을 수 있다.\n",
    "\n",
    "\n",
    "- 파이썬은 print()를 통해서 stdout을 사용자에게 출력할 수 있다."
   ]
  },
  {
   "cell_type": "code",
   "execution_count": null,
   "metadata": {
    "id": "NcHNtr58az9p"
   },
   "outputs": [],
   "source": [
    "# a에 키보드로 입력받은 값을 할당하고 출력해본다.\n"
   ]
  },
  {
   "cell_type": "markdown",
   "metadata": {
    "id": "-9bkJP0haz9q"
   },
   "source": [
    "- 파이썬에서는 stdin은 무조건 문자열 타입으로 들어온다. 이를 type casting을 통해서 다른 데이터 타입으로 바꾸어 사용해야 한다."
   ]
  },
  {
   "cell_type": "code",
   "execution_count": null,
   "metadata": {
    "id": "Kre90bwsaz9r"
   },
   "outputs": [],
   "source": [
    "# 입력받는 값을 숫자라고 가정한 경우.\n"
   ]
  },
  {
   "cell_type": "code",
   "execution_count": null,
   "metadata": {
    "id": "8iinAvVAaz9r"
   },
   "outputs": [],
   "source": [
    "# 입력받는 값을 숫자라고 가정했는데 문자열이 들어오면 에러가 난다. 이 경우는 type casting이 실패한 경우이다.\n"
   ]
  },
  {
   "cell_type": "markdown",
   "metadata": {
    "id": "6eZWUq_Daz9r"
   },
   "source": [
    "- 입력이 문자열이기 때문에 fancy하게 input을 처리할 수 있는 방법이 있다."
   ]
  },
  {
   "cell_type": "markdown",
   "metadata": {
    "id": "XDI8URO8az9s"
   },
   "source": [
    "#### Q. 만약에 stdin으로 여러 개의 숫자가 들어오는 경우, 입력의 format을 알고 있다고 가정했을 때, 이를 효과적으로 처리할 수 있을까?"
   ]
  },
  {
   "cell_type": "code",
   "execution_count": null,
   "metadata": {
    "id": "sg0e_5H5az9s"
   },
   "outputs": [],
   "source": [
    "# 이는 숫자를 2개로 가정한 경우\n"
   ]
  },
  {
   "cell_type": "code",
   "execution_count": null,
   "metadata": {
    "id": "SPAtlM66az9s"
   },
   "outputs": [],
   "source": [
    "# 이와 같은 표현을 list comprehension이라고 한다.\n"
   ]
  },
  {
   "cell_type": "code",
   "execution_count": null,
   "metadata": {},
   "outputs": [],
   "source": []
  },
  {
   "cell_type": "code",
   "execution_count": null,
   "metadata": {
    "id": "SfAWJB7taz9t"
   },
   "outputs": [],
   "source": [
    "# 위의 코드는 아래와 같다. 위의 코드가 훨씬 간단한 것을 확인할 수 있다. 익숙해져서 list comprehension을 사용하도록 하자.\n"
   ]
  },
  {
   "cell_type": "markdown",
   "metadata": {
    "id": "DPYlwZhEaz9t"
   },
   "source": [
    "## 5.2 File I/O"
   ]
  },
  {
   "cell_type": "markdown",
   "metadata": {
    "id": "eVNcSf2iaz9t"
   },
   "source": [
    "- 파이썬에서는 open()을 이용해서 파일을 손쉽게 열 수 있다.\n",
    "\n",
    "\n",
    "- open()을 통해 파일을 열고 난뒤엔, close()를 통해서 닫아줘야 한다. ( close를 하지 않으면 jupyter가 계속해서 파일을 점유하고 있게 되어, 시스템 낭비가 일어난다. 자세한 얘기는 생략)\n",
    "\n",
    "\n",
    "- open() 함수는 다양한 옵션을 제공하지만 기본적으로는 txt파일을 여는 것을 기본으로 가정한다.\n",
    "\n",
    "\n",
    "\n",
    "- 다른 타입의 파일을 열기 위해선 다른 라이브러리들이 필요하다. \n",
    "\n",
    "e.g. csv, excel 파일을 열기 위해 pandas, csv, openpyxl 라이브러리를 사용할 수 있다.\n",
    "\n",
    "e.g. png, jpg 파일을 열기 위해 PIL, opencv 라이브러리를 사용할 수 있다.\n",
    "\n",
    "e.g. pk, pkl 파일을 열기 위해 pickle 라이브러리를 사용할 수 있다."
   ]
  },
  {
   "cell_type": "markdown",
   "metadata": {
    "id": "BGNX1KElaz9t"
   },
   "source": [
    "> 텍스트 파일을 여는 방법에는 read(), readline(), readlines(), for문을 이용한 방법이 있다. 코드를 통해 각 방법의 차이를 알아보자."
   ]
  },
  {
   "cell_type": "code",
   "execution_count": null,
   "metadata": {
    "id": "VKYHye1baz9u"
   },
   "outputs": [],
   "source": [
    "# f.read()를 통해 data 폴더안에 있는 test.txt를 read mode로 열어봅니다.\n"
   ]
  },
  {
   "cell_type": "code",
   "execution_count": null,
   "metadata": {
    "id": "4DSliMQlaz9u"
   },
   "outputs": [],
   "source": [
    "# f.readline()를 통해 data 폴더안에 있는 test.txt를 read mode로 열어봅니다.\n"
   ]
  },
  {
   "cell_type": "code",
   "execution_count": null,
   "metadata": {
    "id": "SLD_zgm4az9u"
   },
   "outputs": [],
   "source": [
    "# f.readlines()를 통해 data 폴더안에 있는 test.txt를 read mode로 열어봅니다.\n"
   ]
  },
  {
   "cell_type": "code",
   "execution_count": null,
   "metadata": {
    "id": "WEP8wGLoaz9u"
   },
   "outputs": [],
   "source": [
    "# for문을 통해 data 폴더안에 있는 test.txt를 read mode로 열어서 출력해봅니다.\n"
   ]
  },
  {
   "cell_type": "markdown",
   "metadata": {
    "id": "RJ7dLzyeaz9v"
   },
   "source": [
    "#### Q. test.txt를 열어서 한글자짜리를 다 지우고 다시 저장하고 싶다. 어떻게 해야할까?"
   ]
  },
  {
   "cell_type": "code",
   "execution_count": null,
   "metadata": {
    "id": "fP0xhI0Caz9v"
   },
   "outputs": [],
   "source": [
    "output = []\n",
    "# test.txt를 read mode로 열고 할 일이 끝나면 자동으로 닫는다.\n",
    "\n",
    "\n",
    "# 한글자 이상인 텍스트만 output list에 저장한다.\n",
    "\n",
    "\n",
    "# result.txt로 output list에 있는 내용을 저장하기 위해 write mode로 열었다.\n"
   ]
  },
  {
   "cell_type": "code",
   "execution_count": null,
   "metadata": {
    "id": "WT40gJ8Naz9v"
   },
   "outputs": [],
   "source": [
    "# 제대로 데이터가 저장되어 있는지, 불러와서 확인한다.\n"
   ]
  },
  {
   "cell_type": "markdown",
   "metadata": {
    "id": "Z1O6wq4Baz9v"
   },
   "source": [
    "### (OPTIONAL) pickle 라이브러리를 통해서 파이썬 object 자체를 저장하기"
   ]
  },
  {
   "cell_type": "code",
   "execution_count": null,
   "metadata": {
    "id": "Y8SXE8dDaz9v"
   },
   "outputs": [],
   "source": [
    "output"
   ]
  },
  {
   "cell_type": "code",
   "execution_count": null,
   "metadata": {
    "id": "aRRPi3VZaz9w"
   },
   "outputs": [],
   "source": [
    "import pickle"
   ]
  },
  {
   "cell_type": "code",
   "execution_count": null,
   "metadata": {
    "id": "DXswSzeNaz9w"
   },
   "outputs": [],
   "source": []
  },
  {
   "cell_type": "code",
   "execution_count": null,
   "metadata": {
    "id": "rB84ZyQraz9w"
   },
   "outputs": [],
   "source": []
  },
  {
   "cell_type": "code",
   "execution_count": null,
   "metadata": {},
   "outputs": [],
   "source": []
  }
 ],
 "metadata": {
  "colab": {
   "collapsed_sections": [],
   "name": "8. 데이터 입출력(IO).ipynb",
   "provenance": []
  },
  "kernelspec": {
   "display_name": "Python 3",
   "language": "python",
   "name": "python3"
  },
  "language_info": {
   "codemirror_mode": {
    "name": "ipython",
    "version": 3
   },
   "file_extension": ".py",
   "mimetype": "text/x-python",
   "name": "python",
   "nbconvert_exporter": "python",
   "pygments_lexer": "ipython3",
   "version": "3.8.8"
  }
 },
 "nbformat": 4,
 "nbformat_minor": 1
}
