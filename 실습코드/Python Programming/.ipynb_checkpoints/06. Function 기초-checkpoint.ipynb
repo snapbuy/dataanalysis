{
 "cells": [
  {
   "cell_type": "markdown",
   "metadata": {
    "id": "evofhUlSyF0I"
   },
   "source": [
    "# 4. Function"
   ]
  },
  {
   "cell_type": "markdown",
   "metadata": {
    "id": "xniOaEG2yF0O"
   },
   "source": [
    "![function](https://drive.google.com/uc?id=1cWvEs5dPVmqD1V7cAyUuI50iHsOpbNAk)"
   ]
  },
  {
   "cell_type": "markdown",
   "metadata": {
    "id": "asH4-Ll7yF0P"
   },
   "source": [
    "## Function이란?\n",
    "\n",
    "**수학적인 의미의 함수와 개념은 비슷하지만 역할이 다르다.**\n",
    "\n",
    "\n",
    "- input이 들어와서 output이 정해진 규칙에 따라 나온다는 개념은 같지만, 프로그램에서의 하나의 함수는 **하나의 기능**을 나타낸다.\n",
    "\n",
    "\n",
    "- 정확하게 함수는 특정 기능을 구현한 **코드 묶음**이다.\n",
    "\n",
    "\n",
    "- def 함수이름(param1, param2, ... ):\n",
    "        <statement1>\n",
    "        <statement2>\n",
    "      return\n",
    "\n",
    "\n",
    "- 함수를 쓰는 이유는 **재사용성** 때문이다."
   ]
  },
  {
   "cell_type": "markdown",
   "metadata": {
    "id": "sh1ZNG2GyF0P"
   },
   "source": [
    "> 함수를 사용하는 가장 중요한 이유는 재사용성 때문이다. Reusability라고 하며, ***똑같은 구조의 코드가 반복되는 것을 피하기 위해 사용***된다. 똑같은 구조의 코드는 보통 한 가지의 기능 단위로 묶이게 되며, 이 기능 단위를 코드로 묶어서 함수로 만든다."
   ]
  },
  {
   "cell_type": "markdown",
   "metadata": {
    "id": "8fPSbSXzyF0Q"
   },
   "source": [
    "## Python Function Definition"
   ]
  },
  {
   "cell_type": "code",
   "execution_count": 3,
   "metadata": {
    "colab": {
     "base_uri": "https://localhost:8080/"
    },
    "executionInfo": {
     "elapsed": 592,
     "status": "ok",
     "timestamp": 1612417130199,
     "user": {
      "displayName": "김용담",
      "photoUrl": "",
      "userId": "13484526522347025246"
     },
     "user_tz": -540
    },
    "id": "tB-3gkTGyF0Q",
    "outputId": "c31665b4-ec57-4b9b-f21c-f7fdb52c6758"
   },
   "outputs": [
    {
     "name": "stdout",
     "output_type": "stream",
     "text": [
      "8\n"
     ]
    }
   ],
   "source": [
    "# function definition\n",
    "#### parameter ####\n",
    "def add(a, b): # (formal)parameter #a = 3, b = 5\n",
    "  c = a + b\n",
    "  return c\n",
    "     \n",
    "# function call\n",
    "a = 3\n",
    "b = 5\n",
    "c = add(3, 5) # argument # actual parameter\n",
    "print(c)"
   ]
  },
  {
   "cell_type": "markdown",
   "metadata": {
    "id": "gY3l8oWLyF0R"
   },
   "source": [
    "- 정확한 용어 구분은 중요하지만, 보통은 parameter라고 총칭한다. 크게 중요하진 않다."
   ]
  },
  {
   "cell_type": "markdown",
   "metadata": {
    "id": "8yTnxs3ByF0R"
   },
   "source": [
    "#### 기억해야 할 것은, input --- (Function) ----> output 의 구조이며, 이 때 어떤 input parameter가 들어가서, 어떤 ouput parameter가 나오는지 주목해야한다."
   ]
  },
  {
   "cell_type": "markdown",
   "metadata": {
    "id": "cMW-5h7OyF0R"
   },
   "source": [
    "#### 연습삼아, 사칙연산을 모두 함수로 만들어보자."
   ]
  },
  {
   "cell_type": "code",
   "execution_count": 7,
   "metadata": {
    "executionInfo": {
     "elapsed": 1358,
     "status": "ok",
     "timestamp": 1612418440416,
     "user": {
      "displayName": "김용담",
      "photoUrl": "",
      "userId": "13484526522347025246"
     },
     "user_tz": -540
    },
    "id": "BGO2MfZbyF0S"
   },
   "outputs": [],
   "source": [
    "def sub(a, b): # 빼기\n",
    "  return a - b\n",
    "\n",
    "def mul(a, b): # 곱하기\n",
    "  return a * b\n",
    "\n",
    "def div(a, b): # 나누기\n",
    "  if b == 0:\n",
    "    return 0\n",
    "  return a / b"
   ]
  },
  {
   "cell_type": "code",
   "execution_count": 8,
   "metadata": {
    "colab": {
     "base_uri": "https://localhost:8080/"
    },
    "executionInfo": {
     "elapsed": 1205,
     "status": "ok",
     "timestamp": 1612418440417,
     "user": {
      "displayName": "김용담",
      "photoUrl": "",
      "userId": "13484526522347025246"
     },
     "user_tz": -540
    },
    "id": "zovF1fZTyF0S",
    "outputId": "011263b6-b1ad-4a9b-99ce-0b7efb33c772"
   },
   "outputs": [
    {
     "name": "stdout",
     "output_type": "stream",
     "text": [
      "10\n",
      "0\n",
      "0\n"
     ]
    }
   ],
   "source": [
    "a = 10\n",
    "b = 0\n",
    "print(sub(a, b))\n",
    "print(mul(a, b))\n",
    "print(div(a, b))\n"
   ]
  },
  {
   "cell_type": "markdown",
   "metadata": {
    "id": "e1-9IBVW4k65"
   },
   "source": [
    "### 함수 정의의 다양한 형태를 연습해보자!"
   ]
  },
  {
   "cell_type": "markdown",
   "metadata": {
    "id": "Qz8sWqk94su9"
   },
   "source": [
    "#### 1. 가장 흔하게 사용되는 경우 -> 함수 parameter와 return이 모두 존재하는 경우."
   ]
  },
  {
   "cell_type": "code",
   "execution_count": null,
   "metadata": {
    "id": "lD9J7z5H4g9C"
   },
   "outputs": [],
   "source": [
    "def add(a, b):\n",
    "  return a + b\n",
    "\n",
    "\n",
    "def get_loss(model, metric):\n",
    "  ...\n",
    "  ...\n",
    "  ...\n",
    "  return model.predict(result, metric=[metric])"
   ]
  },
  {
   "cell_type": "markdown",
   "metadata": {
    "id": "m9OcUVVw41z_"
   },
   "source": [
    "#### 2. 함수 parameter는 없고 return이 존재하는 경우."
   ]
  },
  {
   "cell_type": "code",
   "execution_count": null,
   "metadata": {
    "id": "iXFA9fXX465J"
   },
   "outputs": [],
   "source": [
    "def get_data():\n",
    "  data = pd.read_csv(\"a.csv\")\n",
    "  return data"
   ]
  },
  {
   "cell_type": "markdown",
   "metadata": {
    "id": "6qJLyvYx46gF"
   },
   "source": [
    "#### 3. 함수 parameter는 있는데 return이 없는 경우."
   ]
  },
  {
   "cell_type": "code",
   "execution_count": null,
   "metadata": {
    "id": "64MV2yDF4-jA"
   },
   "outputs": [],
   "source": [
    "def print_name(name):\n",
    "  print(name)\n",
    "  \n",
    "\n",
    "# definition\n",
    "def save_data(path, data):\n",
    "  data.to_csv(path)\n",
    "\n",
    "# call\n",
    "save_data(path, data)"
   ]
  },
  {
   "cell_type": "markdown",
   "metadata": {
    "id": "aaePVAX_4_Ku"
   },
   "source": [
    "#### 4. 함수 parameter도 없고 return도 없는 경우."
   ]
  },
  {
   "cell_type": "code",
   "execution_count": null,
   "metadata": {
    "id": "vyihU5Zw5CJL"
   },
   "outputs": [],
   "source": [
    "def say_hi():\n",
    "  print(\"Hi!\")\n",
    "\n",
    "\n",
    "# definition\n",
    "def save_txt():\n",
    "  with open(\"a.txt\", 'w') as f:\n",
    "    f.write(s)\n",
    "\n",
    "# call\n",
    "save_txt()"
   ]
  },
  {
   "cell_type": "markdown",
   "metadata": {
    "id": "lqCawSAlyF0S"
   },
   "source": [
    "#### Q. 만약에 함수의 입력 parameter의 개수를 모를땐 어떻게 해야할까?"
   ]
  },
  {
   "cell_type": "code",
   "execution_count": 16,
   "metadata": {
    "colab": {
     "base_uri": "https://localhost:8080/"
    },
    "executionInfo": {
     "elapsed": 601,
     "status": "ok",
     "timestamp": 1612420840766,
     "user": {
      "displayName": "김용담",
      "photoUrl": "",
      "userId": "13484526522347025246"
     },
     "user_tz": -540
    },
    "id": "yFsI7D5fyF0S",
    "outputId": "5e228b17-b50d-4ffe-f2c5-a8468aeba1a4"
   },
   "outputs": [
    {
     "name": "stdout",
     "output_type": "stream",
     "text": [
      "Number :  1\n",
      "Total :  1\n",
      "Number :  2\n",
      "Total :  3\n",
      "Number :  3\n",
      "Total :  6\n",
      "Number :  4\n",
      "Total :  10\n",
      "Number :  5\n",
      "Total :  15\n"
     ]
    },
    {
     "data": {
      "text/plain": [
       "15"
      ]
     },
     "execution_count": 16,
     "metadata": {
      "tags": []
     },
     "output_type": "execute_result"
    }
   ],
   "source": [
    "def add_many(*args): # *(asterisk)를 앞에 붙이는 것으로 여러개의 parameter를 받아서 tuple로 변환하여 준다.\n",
    "  #print(args)\n",
    "  #print(type(args))\n",
    "  total_sum = 0\n",
    "  for num in args:\n",
    "    total_sum = total_sum + num\n",
    "    print(\"Number : \", num)\n",
    "    print(\"Total : \", total_sum)\n",
    "  \n",
    "  return total_sum\n",
    "    \n",
    "add_many(1, 2, 3, 4, 5)"
   ]
  },
  {
   "cell_type": "markdown",
   "metadata": {
    "id": "S9rEciM-yF0T"
   },
   "source": [
    "#### Q. 만약에 parameter가 너무 많아서 몇 개만 입력 parameter로 넣고 싶을 땐 어떻게 해야할까?\n",
    "\n",
    "> 아래는 scikit-learn 라이브러리에 있는 logistic regression 모델의 __init__ 함수 코드이다.\n",
    "\n",
    "> parameter가 너무 많아서, 다 외울수도 없다. 이럴 땐 default parameter를 지정해놓고, 필요한 parameter만 입력받는다.\n",
    "\n",
    "\n",
    "-- 이렇게 정의되는 함수의 parameter를 **keyword parameter** 라고 한다."
   ]
  },
  {
   "cell_type": "markdown",
   "metadata": {
    "id": "ovM9tNK_yF0T"
   },
   "source": [
    "![linear_regression](https://drive.google.com/uc?id=1zSGj9LN7ArY19vgtsiiDawfxSQY8uUxD)"
   ]
  },
  {
   "cell_type": "markdown",
   "metadata": {
    "id": "h7Z72wjwyF0T"
   },
   "source": [
    "#### Q. 코드를 작성할 때, 언제 이 부분은 함수로 구현해야겠다 라고 판단할 수 있을까?\n",
    "\n",
    "***A. 똑같은 코드가 2번 이상 반복될 때.***"
   ]
  },
  {
   "cell_type": "markdown",
   "metadata": {
    "id": "_IreDkFq8Qmm"
   },
   "source": [
    "### 파라미터에 대해 조금 더 알아봅시다!\n",
    "\n",
    "- 함수에서 사용되는 변수들에게는 효력 범위와 수명이 있습니다."
   ]
  },
  {
   "cell_type": "markdown",
   "metadata": {
    "id": "w9x7d_Ka8T13"
   },
   "source": [
    "Q. 만약에 함수의 파라미터 변수 이름과, 함수를 호출하는 argument의 이름이 같은 경우에 어떻게 될까?"
   ]
  },
  {
   "cell_type": "code",
   "execution_count": 43,
   "metadata": {
    "colab": {
     "base_uri": "https://localhost:8080/",
     "height": 130
    },
    "executionInfo": {
     "elapsed": 583,
     "status": "error",
     "timestamp": 1612426750352,
     "user": {
      "displayName": "김용담",
      "photoUrl": "",
      "userId": "13484526522347025246"
     },
     "user_tz": -540
    },
    "id": "UwgEw1Bd8ljQ",
    "outputId": "4aa8c36d-f9a7-46fd-ce44-19eed2f6f509"
   },
   "outputs": [
    {
     "ename": "SyntaxError",
     "evalue": "ignored",
     "output_type": "error",
     "traceback": [
      "\u001b[0;36m  File \u001b[0;32m\"<ipython-input-43-da641ca4de9d>\"\u001b[0;36m, line \u001b[0;32m1\u001b[0m\n\u001b[0;31m    global a = 10\u001b[0m\n\u001b[0m             ^\u001b[0m\n\u001b[0;31mSyntaxError\u001b[0m\u001b[0;31m:\u001b[0m invalid syntax\n"
     ]
    }
   ],
   "source": [
    "b = 10\n",
    "def change_name(a):\n",
    "  # global b\n",
    "  print(\"1 : \", a)\n",
    "  # local variable, 지역 변수\n",
    "  # change_name 함수 내에서 사용되는 a ...(1)\n",
    "  a = a.upper()\n",
    "  print(\"2 : \", a)\n",
    "  return a\n",
    "\n",
    "s = \"kim\"\n",
    "name2 = change_name(s)\n",
    "# 함수 바깥에서 사용되는 a ...(2)\n",
    "# (1) != (2)\n",
    "print(a) # \"KIM\"\n",
    "print(\"3 : \", name2)"
   ]
  },
  {
   "cell_type": "markdown",
   "metadata": {
    "id": "3Zv4U8eX6TcF"
   },
   "source": [
    "### Lambda 함수를 사용해보자!\n",
    "\n",
    "\n",
    "- 굉장히 간단한 함수가 있는 경우, 한 줄짜리 함수로 간편하게 사용할 수 있다.\n",
    "\n",
    "\n",
    "- 이런 함수를 Lambda 함수라고 하며, lambda 함수와 반복문을 통해 함수의 정의없이 다양한 프로그래밍이 가능하다."
   ]
  },
  {
   "cell_type": "code",
   "execution_count": 45,
   "metadata": {
    "colab": {
     "base_uri": "https://localhost:8080/"
    },
    "executionInfo": {
     "elapsed": 641,
     "status": "ok",
     "timestamp": 1612427363417,
     "user": {
      "displayName": "김용담",
      "photoUrl": "",
      "userId": "13484526522347025246"
     },
     "user_tz": -540
    },
    "id": "FmRItf0AyF0T",
    "outputId": "a0c87fdb-850d-486b-f404-97ce3e88319d"
   },
   "outputs": [
    {
     "data": {
      "text/plain": [
       "5"
      ]
     },
     "execution_count": 45,
     "metadata": {
      "tags": []
     },
     "output_type": "execute_result"
    }
   ],
   "source": [
    "def add(a, b):  \n",
    "    return a + b\n",
    "\n",
    "# lambda 함수로 바꾸면?\n",
    "Lambda = [\n",
    "          lambda a, b: a+b,\n",
    "          lambda a, b: a-b,\n",
    "          lambda a, b: a*b,\n",
    "          lambda a, b: a/b\n",
    "]\n",
    "f = lambda a, b: a+b\n",
    "f(2, 3)"
   ]
  },
  {
   "cell_type": "markdown",
   "metadata": {
    "id": "T0HEotn27r2q"
   },
   "source": [
    "Q. 아래 리스트의 원소들을 원소들의 길이에 따라 정렬하고 싶은 경우엔 어떻게 해야할까?"
   ]
  },
  {
   "cell_type": "code",
   "execution_count": 51,
   "metadata": {
    "colab": {
     "base_uri": "https://localhost:8080/"
    },
    "executionInfo": {
     "elapsed": 902,
     "status": "ok",
     "timestamp": 1612428327083,
     "user": {
      "displayName": "김용담",
      "photoUrl": "",
      "userId": "13484526522347025246"
     },
     "user_tz": -540
    },
    "id": "6sjA5fGS7Mnt",
    "outputId": "e8f92ec7-5e3f-41c5-b0a0-33d95167b024"
   },
   "outputs": [
    {
     "data": {
      "text/plain": [
       "['kim', 'yoon', 'jeong', 'jessica']"
      ]
     },
     "execution_count": 51,
     "metadata": {
      "tags": []
     },
     "output_type": "execute_result"
    }
   ],
   "source": [
    "strings = ['yoon', 'kim', 'jessica', 'jeong']\n",
    "\n",
    "# 함수의 parameter로 리스트가 넘어가면,\n",
    "# 그 리스트는 변경될 수 있다.\n",
    "def sort_by_length(strings):\n",
    "  strings.sort(key=lambda s:len(s))\n",
    "\n",
    "sort_by_length(strings)\n",
    "strings"
   ]
  },
  {
   "cell_type": "markdown",
   "metadata": {
    "id": "GvCZhie08EHf"
   },
   "source": [
    "### 파이썬에 이미 정의되어 있는 함수들을 사용해보자!"
   ]
  },
  {
   "cell_type": "code",
   "execution_count": 55,
   "metadata": {
    "colab": {
     "base_uri": "https://localhost:8080/"
    },
    "executionInfo": {
     "elapsed": 570,
     "status": "ok",
     "timestamp": 1612429089035,
     "user": {
      "displayName": "김용담",
      "photoUrl": "",
      "userId": "13484526522347025246"
     },
     "user_tz": -540
    },
    "id": "ET9pXhE98ILc",
    "outputId": "568aa137-d257-4ee0-eeb0-0556ec54a7a6"
   },
   "outputs": [
    {
     "name": "stdout",
     "output_type": "stream",
     "text": [
      "3\n",
      "3\n",
      "3\n",
      "0.8414709848078965\n",
      "0.5403023058681398\n"
     ]
    }
   ],
   "source": [
    "# 수학 계산을 해봅시다.\n",
    "import math\n",
    "# 절대값, 올림, 내림\n",
    "print(abs(-3)) \n",
    "print(math.ceil(2.4)) \n",
    "print(math.floor(3.8))\n",
    "# sin, cos\n",
    "print(math.sin(1))\n",
    "print(math.cos(1))"
   ]
  },
  {
   "cell_type": "code",
   "execution_count": 57,
   "metadata": {
    "colab": {
     "base_uri": "https://localhost:8080/"
    },
    "executionInfo": {
     "elapsed": 604,
     "status": "ok",
     "timestamp": 1612429244480,
     "user": {
      "displayName": "김용담",
      "photoUrl": "",
      "userId": "13484526522347025246"
     },
     "user_tz": -540
    },
    "id": "81O3IP-v9OK-",
    "outputId": "7e9db7f7-3d48-480c-e927-f1857cc18a16"
   },
   "outputs": [
    {
     "data": {
      "text/plain": [
       "[15, 24, 19, 2, 35, 43, 29]"
      ]
     },
     "execution_count": 57,
     "metadata": {
      "tags": []
     },
     "output_type": "execute_result"
    }
   ],
   "source": [
    "# 복권 숫자를 만들어봅시다.\n",
    "import random\n",
    "random.sample(range(1, 46), 7)"
   ]
  },
  {
   "cell_type": "code",
   "execution_count": 12,
   "metadata": {
    "id": "OEN5T0gj9T4l"
   },
   "outputs": [],
   "source": [
    "# 다양한 사전들을 써봅시다.\n",
    "from collections import defaultdict\n",
    "from collections import OrderedDict\n",
    "\n",
    "D = defaultdict(int)\n",
    "oD = OrderedDict()\n",
    "\n",
    "oD['a'] = 3\n",
    "oD['b'] = 4\n",
    "oD['c'] = 7 #\n",
    "oD['d'] = 5\n",
    "oD['j'] = 9 #\n",
    "oD['z'] = 10"
   ]
  },
  {
   "cell_type": "code",
   "execution_count": 13,
   "metadata": {},
   "outputs": [
    {
     "data": {
      "text/plain": [
       "OrderedDict([('a', 3), ('b', 4), ('c', 7), ('d', 5), ('j', 9), ('z', 10)])"
      ]
     },
     "execution_count": 13,
     "metadata": {},
     "output_type": "execute_result"
    }
   ],
   "source": [
    "oD"
   ]
  },
  {
   "cell_type": "code",
   "execution_count": null,
   "metadata": {},
   "outputs": [],
   "source": []
  }
 ],
 "metadata": {
  "colab": {
   "collapsed_sections": [],
   "name": "06. Function 기초.ipynb",
   "provenance": []
  },
  "kernelspec": {
   "display_name": "Python 3",
   "language": "python",
   "name": "python3"
  },
  "language_info": {
   "codemirror_mode": {
    "name": "ipython",
    "version": 3
   },
   "file_extension": ".py",
   "mimetype": "text/x-python",
   "name": "python",
   "nbconvert_exporter": "python",
   "pygments_lexer": "ipython3",
   "version": "3.8.3"
  }
 },
 "nbformat": 4,
 "nbformat_minor": 1
}
