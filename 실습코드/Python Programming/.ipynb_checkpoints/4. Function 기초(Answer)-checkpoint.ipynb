{
 "cells": [
  {
   "cell_type": "markdown",
   "metadata": {},
   "source": [
    "# 4. Function"
   ]
  },
  {
   "cell_type": "markdown",
   "metadata": {},
   "source": [
    "![function](../images/python/function_machine.png)"
   ]
  },
  {
   "cell_type": "markdown",
   "metadata": {},
   "source": [
    "## Function이란?\n",
    "\n",
    "**수학적인 의미의 함수와 개념은 비슷하지만 역할이 다르다.**\n",
    "\n",
    "\n",
    "- input이 들어와서 output이 정해진 규칙에 따라 나온다는 개념은 같지만, 프로그램에서의 하나의 함수는 **하나의 기능**을 나타낸다.\n",
    "\n",
    "\n",
    "- 정확하게 함수는 특정 기능을 구현한 **코드 묶음**이다.\n",
    "\n",
    "\n",
    "- def 함수이름(param1, param2, ... ):\n",
    "        <statement1>\n",
    "        <statement2>\n",
    "      return\n",
    "\n",
    "\n",
    "- 함수를 쓰는 이유는 **재사용성** 때문이다."
   ]
  },
  {
   "cell_type": "markdown",
   "metadata": {},
   "source": [
    "> 함수를 사용하는 가장 중요한 이유는 재사용성 때문이다. Reusability라고 하며, ***똑같은 구조의 코드가 반복되는 것을 피하기 위해 사용***된다. 똑같은 구조의 코드는 보통 한 가지의 기능 단위로 묶이게 되며, 이 기능 단위를 코드로 묶어서 함수로 만든다."
   ]
  },
  {
   "cell_type": "markdown",
   "metadata": {},
   "source": [
    "## 4.1 Python Function Definition"
   ]
  },
  {
   "cell_type": "code",
   "execution_count": 1,
   "metadata": {},
   "outputs": [
    {
     "data": {
      "text/plain": [
       "15"
      ]
     },
     "execution_count": 1,
     "metadata": {},
     "output_type": "execute_result"
    }
   ],
   "source": [
    "def add(a, b): # 이 때 a, b를 매개변수 또는 parameter라고 하며,\n",
    "    return a + b\n",
    "\n",
    "a = 10\n",
    "b = 5\n",
    "\n",
    "add(a, b) # 이 때 a, b를 인수라고 하며 arguments라고 한다."
   ]
  },
  {
   "cell_type": "markdown",
   "metadata": {},
   "source": [
    "- 정확한 용어 구분은 중요하지만, 보통은 parameter라고 총칭한다. 크게 중요하진 않다."
   ]
  },
  {
   "cell_type": "markdown",
   "metadata": {},
   "source": [
    "#### 기억해야 할 것은, input --- (Function) ----> output 의 구조이며, 이 때 어떤 input parameter가 들어가서, 어떤 ouput parameter가 나오는지 주목해야한다."
   ]
  },
  {
   "cell_type": "markdown",
   "metadata": {},
   "source": [
    "#### 연습삼아, 사칙연산을 모두 함수로 만들어보자."
   ]
  },
  {
   "cell_type": "code",
   "execution_count": 2,
   "metadata": {},
   "outputs": [],
   "source": [
    "def sub(a, b):\n",
    "    return a - b\n",
    "\n",
    "def mul(a, b):\n",
    "    return a * b\n",
    "\n",
    "def div(a, b):\n",
    "    try:\n",
    "        return a / b\n",
    "    except:\n",
    "        print(\"B is zero. Cannot divide.\") # 이를 Zero division error라고 하며, 데이터 분석에서도 굉장히 중요한 역할을 한다."
   ]
  },
  {
   "cell_type": "code",
   "execution_count": 3,
   "metadata": {},
   "outputs": [
    {
     "name": "stdout",
     "output_type": "stream",
     "text": [
      "5\n",
      "50\n",
      "2.0\n"
     ]
    }
   ],
   "source": [
    "a = 10\n",
    "b = 5\n",
    "print(sub(a, b))\n",
    "print(mul(a, b))\n",
    "print(div(a, b))"
   ]
  },
  {
   "cell_type": "markdown",
   "metadata": {},
   "source": [
    "#### Q. 만약에 함수의 입력 parameter의 개수를 모를땐 어떻게 해야할까?"
   ]
  },
  {
   "cell_type": "code",
   "execution_count": 4,
   "metadata": {},
   "outputs": [
    {
     "data": {
      "text/plain": [
       "15"
      ]
     },
     "execution_count": 4,
     "metadata": {},
     "output_type": "execute_result"
    }
   ],
   "source": [
    "def add_many(*args): # *(asterisk)를 앞에 붙이는 것으로 여러개의 parameter를 받아서 tuple로 변환하여 준다.\n",
    "    result = 0\n",
    "    for arg in args:\n",
    "        result = result + arg\n",
    "    return result\n",
    "\n",
    "add_many(1, 2, 3, 4, 5)"
   ]
  },
  {
   "cell_type": "markdown",
   "metadata": {},
   "source": [
    "#### Q. 만약에 parameter가 너무 많아서 몇 개만 입력 parameter로 넣고 싶을 땐 어떻게 해야할까?\n",
    "\n",
    "> 아래는 scikit-learn 라이브러리에 있는 logistic regression 모델의 __init__ 함수 코드이다.\n",
    "\n",
    "> parameter가 너무 많아서, 다 외울수도 없다. 이럴 땐 default parameter를 지정해놓고, 필요한 parameter만 입력받는다."
   ]
  },
  {
   "cell_type": "markdown",
   "metadata": {},
   "source": [
    "![linear_regression](../images/python/linear_regression.png)"
   ]
  },
  {
   "cell_type": "markdown",
   "metadata": {},
   "source": [
    "#### Q. 코드를 작성할 때, 언제 이 부분은 함수로 구현해야겠다 라고 판단할 수 있을까?\n",
    "\n",
    "***A. 똑같은 코드가 2번 이상 반복될 때.***"
   ]
  },
  {
   "cell_type": "code",
   "execution_count": null,
   "metadata": {},
   "outputs": [],
   "source": []
  }
 ],
 "metadata": {
  "kernelspec": {
   "display_name": "Python 3",
   "language": "python",
   "name": "python3"
  },
  "language_info": {
   "codemirror_mode": {
    "name": "ipython",
    "version": 3
   },
   "file_extension": ".py",
   "mimetype": "text/x-python",
   "name": "python",
   "nbconvert_exporter": "python",
   "pygments_lexer": "ipython3",
   "version": "3.6.9"
  }
 },
 "nbformat": 4,
 "nbformat_minor": 2
}
