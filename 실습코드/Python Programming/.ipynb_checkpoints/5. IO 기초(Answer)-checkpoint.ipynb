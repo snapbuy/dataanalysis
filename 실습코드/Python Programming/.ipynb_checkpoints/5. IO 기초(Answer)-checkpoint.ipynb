{
 "cells": [
  {
   "cell_type": "markdown",
   "metadata": {},
   "source": [
    "# 5. I/O (Input / Output) "
   ]
  },
  {
   "cell_type": "markdown",
   "metadata": {},
   "source": [
    "## I/O란?\n",
    "\n",
    "\n",
    "- 프로그램 입장에서 들어오는 모든 데이터를 input, 나가는 모든 데이터를 output이라고 한다.\n",
    "\n",
    "\n",
    "- 사용자로 부터 키보드으로 입력받는 것을 stdin이라고 하며, 사용자에게 다시 모니터으로 출력되는 것을 stdout이라고 한다.\n",
    "\n",
    "> 통상적으로는 Unix 환경(터미널 환경)에서 부르던 용어인데, 프로그래밍에 자주 등장하기 때문에 소개한다.\n",
    "\n",
    "\n",
    "- 프로그램은 메인 메모리 상에 존재하기 때문에, 스토리지로부터 파일을 불러오는 것도 input이고, 프로그램의 결과를 스토리지에 저장하는 것도 output이다. 이러한 작업을 file I/O로 통칭한다.\n",
    "\n",
    "\n",
    "- 파이썬에서 stdin/out을 사용하는 방법과 file I/O를 사용하는 방법에 대해 간단하게 알아본다."
   ]
  },
  {
   "cell_type": "markdown",
   "metadata": {},
   "source": [
    "## 5.1 STDIN / STDOUT (Standard IN, Standard OUT)"
   ]
  },
  {
   "cell_type": "markdown",
   "metadata": {},
   "source": [
    "- 파이썬은 input()을 통해서 stdin을 사용자로부터 입력받을 수 있다.\n",
    "\n",
    "\n",
    "- 파이썬은 print()를 통해서 stdout을 사용자에게 출력할 수 있다."
   ]
  },
  {
   "cell_type": "code",
   "execution_count": 2,
   "metadata": {},
   "outputs": [
    {
     "name": "stdout",
     "output_type": "stream",
     "text": [
      "34\n",
      "34\n",
      "<class 'str'>\n"
     ]
    }
   ],
   "source": [
    "a = input()\n",
    "print(a)\n",
    "print(type(a))"
   ]
  },
  {
   "cell_type": "markdown",
   "metadata": {},
   "source": [
    "- 파이썬에서는 stdin은 무조건 문자열 타입으로 들어온다. 이를 type casting을 통해서 다른 데이터 타입으로 바꾸어 사용해야 한다."
   ]
  },
  {
   "cell_type": "code",
   "execution_count": 3,
   "metadata": {},
   "outputs": [
    {
     "name": "stdout",
     "output_type": "stream",
     "text": [
      "3\n",
      "3\n",
      "<class 'int'>\n"
     ]
    }
   ],
   "source": [
    "a = int(input()) # 입력받는 값을 숫자라고 가정한 경우.\n",
    "print(a)\n",
    "print(type(a))"
   ]
  },
  {
   "cell_type": "code",
   "execution_count": 4,
   "metadata": {},
   "outputs": [
    {
     "name": "stdout",
     "output_type": "stream",
     "text": [
      "hello\n"
     ]
    },
    {
     "ename": "ValueError",
     "evalue": "invalid literal for int() with base 10: 'hello'",
     "output_type": "error",
     "traceback": [
      "\u001b[0;31m---------------------------------------------------------------------------\u001b[0m",
      "\u001b[0;31mValueError\u001b[0m                                Traceback (most recent call last)",
      "\u001b[0;32m<ipython-input-4-2691686dd284>\u001b[0m in \u001b[0;36m<module>\u001b[0;34m\u001b[0m\n\u001b[0;32m----> 1\u001b[0;31m \u001b[0ma\u001b[0m \u001b[0;34m=\u001b[0m \u001b[0mint\u001b[0m\u001b[0;34m(\u001b[0m\u001b[0minput\u001b[0m\u001b[0;34m(\u001b[0m\u001b[0;34m)\u001b[0m\u001b[0;34m)\u001b[0m \u001b[0;31m# 입력받는 값을 숫자라고 가정한 경우.\u001b[0m\u001b[0;34m\u001b[0m\u001b[0;34m\u001b[0m\u001b[0m\n\u001b[0m\u001b[1;32m      2\u001b[0m \u001b[0mprint\u001b[0m\u001b[0;34m(\u001b[0m\u001b[0ma\u001b[0m\u001b[0;34m)\u001b[0m\u001b[0;34m\u001b[0m\u001b[0;34m\u001b[0m\u001b[0m\n\u001b[1;32m      3\u001b[0m \u001b[0mprint\u001b[0m\u001b[0;34m(\u001b[0m\u001b[0mtype\u001b[0m\u001b[0;34m(\u001b[0m\u001b[0ma\u001b[0m\u001b[0;34m)\u001b[0m\u001b[0;34m)\u001b[0m\u001b[0;34m\u001b[0m\u001b[0;34m\u001b[0m\u001b[0m\n",
      "\u001b[0;31mValueError\u001b[0m: invalid literal for int() with base 10: 'hello'"
     ]
    }
   ],
   "source": [
    "a = int(input()) # 입력받는 값을 숫자라고 가정했는데 문자열이 들어오면 에러가 난다. 이 경우는 type casting이 실패한 경우이다.\n",
    "print(a)\n",
    "print(type(a)) "
   ]
  },
  {
   "cell_type": "markdown",
   "metadata": {},
   "source": [
    "- 입력이 문자열이기 때문에 fancy하게 input을 처리할 수 있는 방법이 있다."
   ]
  },
  {
   "cell_type": "markdown",
   "metadata": {},
   "source": [
    "#### Q. 만약에 stdin으로 여러 개의 숫자가 들어오는 경우, 입력의 format을 알고 있다고 가정했을 때, 이를 효과적으로 처리할 수 있을까?"
   ]
  },
  {
   "cell_type": "code",
   "execution_count": 8,
   "metadata": {},
   "outputs": [
    {
     "name": "stdout",
     "output_type": "stream",
     "text": [
      "숫자 2개를 빈 칸으로 구분해서 입력해주세요.3 4\n",
      "3\n",
      "4\n"
     ]
    }
   ],
   "source": [
    "a, b = input(\"숫자 2개를 빈 칸으로 구분해서 입력해주세요.\").split() # 이는 숫자를 2개로 가정한 경우\n",
    "print(a)\n",
    "print(b)"
   ]
  },
  {
   "cell_type": "code",
   "execution_count": 9,
   "metadata": {},
   "outputs": [
    {
     "name": "stdout",
     "output_type": "stream",
     "text": [
      "빈 칸으로 구분해서 마음껏 숫자를 입력해주세요.1 2 3 4 5 6 3 1 \n"
     ]
    },
    {
     "data": {
      "text/plain": [
       "[1, 2, 3, 4, 5, 6, 3, 1]"
      ]
     },
     "execution_count": 9,
     "metadata": {},
     "output_type": "execute_result"
    }
   ],
   "source": [
    "L = [int(x) for x in input(\"빈 칸으로 구분해서 마음껏 숫자를 입력해주세요.\").split()] # 이와 같은 표현을 list comprehension이라고 한다.\n",
    "L"
   ]
  },
  {
   "cell_type": "code",
   "execution_count": 10,
   "metadata": {},
   "outputs": [
    {
     "name": "stdout",
     "output_type": "stream",
     "text": [
      "빈 칸으로 구분해서 마음껏 숫자를 입력해주세요.1 2 3 4 5 6 3 1\n"
     ]
    },
    {
     "data": {
      "text/plain": [
       "[1, 2, 3, 4, 5, 6, 3, 1]"
      ]
     },
     "execution_count": 10,
     "metadata": {},
     "output_type": "execute_result"
    }
   ],
   "source": [
    "# 위의 코드는 아래와 같다. 위의 코드가 훨씬 간단한 것을 확인할 수 있다. 익숙해져서 list comprehension을 사용하도록 하자.\n",
    "L = []\n",
    "temp = input(\"빈 칸으로 구분해서 마음껏 숫자를 입력해주세요.\")\n",
    "temp = temp.split()\n",
    "for x in temp:\n",
    "    L.append(int(x))\n",
    "L"
   ]
  },
  {
   "cell_type": "markdown",
   "metadata": {},
   "source": [
    "## 5.2 File I/O"
   ]
  },
  {
   "cell_type": "markdown",
   "metadata": {},
   "source": [
    "- 파이썬에서는 open()을 이용해서 파일을 손쉽게 열 수 있다.\n",
    "\n",
    "\n",
    "- open()을 통해 파일을 열고 난뒤엔, close()를 통해서 닫아줘야 한다. ( close를 하지 않으면 jupyter가 계속해서 파일을 점유하고 있게 되어, 시스템 낭비가 일어난다. 자세한 얘기는 생략)\n",
    "\n",
    "\n",
    "- open() 함수는 다양한 옵션을 제공하지만 기본적으로는 txt파일을 여는 것을 기본으로 가정한다.\n",
    "\n",
    "\n",
    "\n",
    "- 다른 타입의 파일을 열기 위해선 다른 라이브러리들이 필요하다. \n",
    "\n",
    "e.g. csv, excel 파일을 열기 위해 pandas, csv, openpyxl 라이브러리를 사용할 수 있다.\n",
    "\n",
    "e.g. png, jpg 파일을 열기 위해 PIL, opencv 라이브러리를 사용할 수 있다.\n",
    "\n",
    "e.g. pk, pkl 파일을 열기 위해 pickle 라이브러리를 사용할 수 있다."
   ]
  },
  {
   "cell_type": "markdown",
   "metadata": {},
   "source": [
    "> 텍스트 파일을 여는 방법에는 read(), readline(), readlines(), for문을 이용한 방법이 있다. 코드를 통해 각 방법의 차이를 알아보자."
   ]
  },
  {
   "cell_type": "code",
   "execution_count": 12,
   "metadata": {},
   "outputs": [
    {
     "data": {
      "text/plain": [
       "'아\\n휴\\n아이구\\n아이쿠\\n아이고\\n어\\n나\\n우리\\n저희\\n따라\\n의해\\n을\\n를\\n에\\n의\\n가\\n으로\\n로\\n에게\\n뿐이다\\n의거하여\\n근거하여\\n입각하여\\n기준으로\\n예하면\\n예를 들면\\n예를 들자면'"
      ]
     },
     "execution_count": 12,
     "metadata": {},
     "output_type": "execute_result"
    }
   ],
   "source": [
    "f = open(\"data/test.txt\", \"r\")\n",
    "f.read()\n",
    "f.close()"
   ]
  },
  {
   "cell_type": "code",
   "execution_count": 15,
   "metadata": {},
   "outputs": [
    {
     "data": {
      "text/plain": [
       "'아\\n'"
      ]
     },
     "execution_count": 15,
     "metadata": {},
     "output_type": "execute_result"
    }
   ],
   "source": [
    "f = open(\"data/test.txt\", \"r\")\n",
    "f.readline()\n",
    "f.close()"
   ]
  },
  {
   "cell_type": "code",
   "execution_count": 16,
   "metadata": {},
   "outputs": [
    {
     "data": {
      "text/plain": [
       "['아\\n',\n",
       " '휴\\n',\n",
       " '아이구\\n',\n",
       " '아이쿠\\n',\n",
       " '아이고\\n',\n",
       " '어\\n',\n",
       " '나\\n',\n",
       " '우리\\n',\n",
       " '저희\\n',\n",
       " '따라\\n',\n",
       " '의해\\n',\n",
       " '을\\n',\n",
       " '를\\n',\n",
       " '에\\n',\n",
       " '의\\n',\n",
       " '가\\n',\n",
       " '으로\\n',\n",
       " '로\\n',\n",
       " '에게\\n',\n",
       " '뿐이다\\n',\n",
       " '의거하여\\n',\n",
       " '근거하여\\n',\n",
       " '입각하여\\n',\n",
       " '기준으로\\n',\n",
       " '예하면\\n',\n",
       " '예를 들면\\n',\n",
       " '예를 들자면']"
      ]
     },
     "execution_count": 16,
     "metadata": {},
     "output_type": "execute_result"
    }
   ],
   "source": [
    "f = open(\"data/test.txt\", \"r\")\n",
    "f.readlines()\n",
    "f.close()"
   ]
  },
  {
   "cell_type": "code",
   "execution_count": 17,
   "metadata": {},
   "outputs": [
    {
     "name": "stdout",
     "output_type": "stream",
     "text": [
      "아\n",
      "\n",
      "휴\n",
      "\n",
      "아이구\n",
      "\n",
      "아이쿠\n",
      "\n",
      "아이고\n",
      "\n",
      "어\n",
      "\n",
      "나\n",
      "\n",
      "우리\n",
      "\n",
      "저희\n",
      "\n",
      "따라\n",
      "\n",
      "의해\n",
      "\n",
      "을\n",
      "\n",
      "를\n",
      "\n",
      "에\n",
      "\n",
      "의\n",
      "\n",
      "가\n",
      "\n",
      "으로\n",
      "\n",
      "로\n",
      "\n",
      "에게\n",
      "\n",
      "뿐이다\n",
      "\n",
      "의거하여\n",
      "\n",
      "근거하여\n",
      "\n",
      "입각하여\n",
      "\n",
      "기준으로\n",
      "\n",
      "예하면\n",
      "\n",
      "예를 들면\n",
      "\n",
      "예를 들자면\n"
     ]
    }
   ],
   "source": [
    "f = open(\"data/test.txt\", \"r\")\n",
    "for line in f:\n",
    "    print(line)\n",
    "    #print(line.strip())\n",
    "f.close()"
   ]
  },
  {
   "cell_type": "markdown",
   "metadata": {},
   "source": [
    "#### Q. test.txt를 열어서 공백을 모두 제거한 뒤에 다시 저장하고 싶다. 어떻게 해야할까?"
   ]
  },
  {
   "cell_type": "code",
   "execution_count": 19,
   "metadata": {},
   "outputs": [],
   "source": [
    "output = []\n",
    "with open(\"data/test.txt\", \"r\") as f: # test.txt를 read mode로 열고 할 일이 끝나면 자동으로 닫는다.\n",
    "    for line in f:\n",
    "        output.append(line.strip()) # 공백을 제거한 텍스트를 한 줄씩 output list에 저장한 뒤,\n",
    "    \n",
    "with open(\"data/result.txt\", \"w\") as f: # result.txt로 output list에 있는 내용을 저장하기 위해 write mode로 열었다.\n",
    "    for line in output:\n",
    "        print(line, file=f) # f.write()도 있는데, \\n에 대해서 추가적인 처리를 해야해서 쓰지 않았다."
   ]
  },
  {
   "cell_type": "markdown",
   "metadata": {},
   "source": [
    "### (OPTIONAL) pickle 라이브러리를 통해서 파이썬 object 자체를 저장하기"
   ]
  },
  {
   "cell_type": "code",
   "execution_count": 21,
   "metadata": {},
   "outputs": [
    {
     "data": {
      "text/plain": [
       "['아',\n",
       " '휴',\n",
       " '아이구',\n",
       " '아이쿠',\n",
       " '아이고',\n",
       " '어',\n",
       " '나',\n",
       " '우리',\n",
       " '저희',\n",
       " '따라',\n",
       " '의해',\n",
       " '을',\n",
       " '를',\n",
       " '에',\n",
       " '의',\n",
       " '가',\n",
       " '으로',\n",
       " '로',\n",
       " '에게',\n",
       " '뿐이다',\n",
       " '의거하여',\n",
       " '근거하여',\n",
       " '입각하여',\n",
       " '기준으로',\n",
       " '예하면',\n",
       " '예를 들면',\n",
       " '예를 들자면']"
      ]
     },
     "execution_count": 21,
     "metadata": {},
     "output_type": "execute_result"
    }
   ],
   "source": [
    "import pickle\n",
    "\n",
    "with open(\"data/test.pk\", \"wb\") as f:\n",
    "    pickle.dump(output, f)\n",
    "    \n",
    "with open(\"data/test.pk\", \"rb\") as f:\n",
    "    output = pickle.load(f)\n",
    "\n",
    "output"
   ]
  },
  {
   "cell_type": "code",
   "execution_count": null,
   "metadata": {},
   "outputs": [],
   "source": []
  }
 ],
 "metadata": {
  "kernelspec": {
   "display_name": "Python 3",
   "language": "python",
   "name": "python3"
  },
  "language_info": {
   "codemirror_mode": {
    "name": "ipython",
    "version": 3
   },
   "file_extension": ".py",
   "mimetype": "text/x-python",
   "name": "python",
   "nbconvert_exporter": "python",
   "pygments_lexer": "ipython3",
   "version": "3.6.9"
  }
 },
 "nbformat": 4,
 "nbformat_minor": 2
}
