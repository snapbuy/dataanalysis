{
 "cells": [
  {
   "cell_type": "markdown",
   "metadata": {},
   "source": [
    "## 1.  누군가의 평균 구하기\n",
    "\n",
    "* 입력으로 숫자가 몇 개 들어올지 모르는 상황에서 받은 모든 입력의 평균을 구하는 함수를 작성해보자."
   ]
  },
  {
   "cell_type": "code",
   "execution_count": 3,
   "metadata": {},
   "outputs": [],
   "source": [
    "# get_average 함수를 작성합니다."
   ]
  },
  {
   "cell_type": "code",
   "execution_count": 5,
   "metadata": {},
   "outputs": [
    {
     "name": "stdout",
     "output_type": "stream",
     "text": [
      "72.0\n"
     ]
    }
   ],
   "source": [
    "# get_average 함수안에 원하는만큼 숫자 입력하기\n",
    "# 예시 : get_average(70, 80, 90, 50, 70)\n",
    "print(mean)"
   ]
  },
  {
   "cell_type": "markdown",
   "metadata": {},
   "source": [
    "## 2. \n",
    "\n",
    "* 윈도우는 한글 인코딩 방법으로 \"CP949\"를 사용하고, macOS와 Linux 운영체제는 \"UTF-8\"을 사용합니다.\n",
    "* 윈도우가 아닌 운영체제에서 생성된 한글 텍스트 파일은 윈도우에서 읽혀지지 않고 깨져서 나옵니다.\n",
    "* macOS에서 제작된 한글 텍스트 파일을 읽어서 윈도우에서 읽을 수 있게 바꾸어 봅시다!"
   ]
  },
  {
   "cell_type": "code",
   "execution_count": 12,
   "metadata": {},
   "outputs": [],
   "source": [
    "# 파일 입출력 함수 만들기!\n",
    "def korean_encoder(filepath):\n"
   ]
  },
  {
   "cell_type": "markdown",
   "metadata": {},
   "source": [
    "## 3. (고오급) 함수 정의하기\n",
    "\n",
    "* 실제 코드를 보고, 어떤 코드 부분을 함수로 바꾸면 좋을지 생각해보자."
   ]
  },
  {
   "cell_type": "code",
   "execution_count": null,
   "metadata": {},
   "outputs": [],
   "source": [
    "from konlpy.tag import Okt\n",
    "import json\n",
    "import os\n",
    "import re\n",
    "from pprint import pprint\n",
    "# 위에 불러오는 함수들은 중요하지 않습니다!\n"
   ]
  },
  {
   "cell_type": "code",
   "execution_count": null,
   "metadata": {},
   "outputs": [],
   "source": [
    "# 형태소 분석기\n",
    "okt = Okt()\n",
    "def text_cleaning(doc):\n",
    "    return re.sub(\"[^ㄱ-ㅎㅏ-ㅣ가-힣 ]\", \"\", doc)\n",
    "\n",
    "def text_tokenizing(doc):\n",
    "    return [word for word in okt.morphs(doc, stem=True)\n",
    "            if word not in SW and len(word) > 1]\n",
    "    \n",
    "\n",
    "\n",
    "# NSMC(Naver Sentiment Movie Corpus) 학습 데이터를 읽어와서 학습 모듈에 넣을 형태로 변환\n",
    "train_data = [(text_cleaning(line[1]), line[2]) for line in train_docs if text_cleaning(line[1])]\n",
    "train_data = [(text_tokenizing(line[0]) , line[1]) for line in train_data if text_tokenizing(line[0])]\n",
    "\n",
    "# NSMC(Naver Sentiment Movie Corpus) 테스트 데이터를 읽어와서 테스트 모듈에 넣을 형태로 변환\n",
    "test_data = [(text_cleaning(line[1]), line[2]) for line in test_docs if text_cleaning(line[1])]\n",
    "test_data = [(text_tokenizing(line[0]), line[1]) for line in test_data if text_tokenizing(line[0])]"
   ]
  }
 ],
 "metadata": {
  "kernelspec": {
   "display_name": "Python 3",
   "language": "python",
   "name": "python3"
  },
  "language_info": {
   "codemirror_mode": {
    "name": "ipython",
    "version": 3
   },
   "file_extension": ".py",
   "mimetype": "text/x-python",
   "name": "python",
   "nbconvert_exporter": "python",
   "pygments_lexer": "ipython3",
   "version": "3.8.3"
  }
 },
 "nbformat": 4,
 "nbformat_minor": 2
}
