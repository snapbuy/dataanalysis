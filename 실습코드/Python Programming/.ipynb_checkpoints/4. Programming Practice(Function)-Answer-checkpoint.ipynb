{
 "cells": [
  {
   "cell_type": "markdown",
   "metadata": {},
   "source": [
    "## 1.  누군가의 평균 구하기\n",
    "\n",
    "* 입력으로 숫자가 몇 개 들어올지 모르는 상황에서 받은 모든 입력의 평균을 구하는 함수를 작성해보자."
   ]
  },
  {
   "cell_type": "code",
   "execution_count": 3,
   "metadata": {},
   "outputs": [],
   "source": [
    "def get_average(*args):\n",
    "\n",
    "    for num in args:\n",
    "        mean = mean + num\n",
    "        L.append(num)\n",
    "    \n",
    "    mean = mean / len(args)\n",
    "    \n",
    "    return mean"
   ]
  },
  {
   "cell_type": "code",
   "execution_count": 5,
   "metadata": {},
   "outputs": [
    {
     "name": "stdout",
     "output_type": "stream",
     "text": [
      "72.0\n"
     ]
    }
   ],
   "source": [
    "# get_average 함수안에 원하는만큼 숫자 입력하기\n",
    "# 예시 : get_average(70, 80, 90, 50, 70)\n",
    "#mean = get_average(50, 30, 10)\n",
    "mean = get_average(70, 80, 90, 50, 70)\n",
    "print(mean)"
   ]
  },
  {
   "cell_type": "markdown",
   "metadata": {},
   "source": [
    "## 2. 텍스트 인코더 만들기\n",
    "\n",
    "* 윈도우는 한글 인코딩 방법으로 \"CP949\"를 사용하고, macOS와 Linux 운영체제는 \"UTF-8\"을 사용합니다.\n",
    "* 윈도우가 아닌 운영체제에서 생성된 한글 텍스트 파일은 윈도우에서 읽혀지지 않고 깨져서 나옵니다.\n",
    "* macOS에서 제작된 한글 텍스트 파일을 읽어서 윈도우에서 읽을 수 있게 바꾸어 봅시다!"
   ]
  },
  {
   "cell_type": "code",
   "execution_count": null,
   "metadata": {},
   "outputs": [],
   "source": [
    "print()\n",
    "input()\n",
    "with open()\n",
    "type()"
   ]
  },
  {
   "cell_type": "code",
   "execution_count": 12,
   "metadata": {},
   "outputs": [],
   "source": [
    "# 파일 입출력 함수 만들기!\n",
    "def korean_encoder(filepath):\n",
    "    docs = []\n",
    "    with open(filepath, \"r\", encoding=\"CP949\") as f:\n",
    "        for line in f:\n",
    "            docs.append(line)\n",
    "            \n",
    "    with open(filepath, \"w\", encoding=\"utf-8\") as f:\n",
    "        for line in docs:\n",
    "            print(line, file=f)"
   ]
  },
  {
   "cell_type": "code",
   "execution_count": 13,
   "metadata": {},
   "outputs": [
    {
     "ename": "UnicodeEncodeError",
     "evalue": "'cp949' codec can't encode character '\\xa9' in position 2004: illegal multibyte sequence",
     "output_type": "error",
     "traceback": [
      "\u001b[0;31m---------------------------------------------------------------------------\u001b[0m",
      "\u001b[0;31mUnicodeEncodeError\u001b[0m                        Traceback (most recent call last)",
      "\u001b[0;32m<ipython-input-13-fd43e396656a>\u001b[0m in \u001b[0;36m<module>\u001b[0;34m\u001b[0m\n\u001b[1;32m      2\u001b[0m \u001b[0mfilepath2\u001b[0m \u001b[0;34m=\u001b[0m \u001b[0;34m\"temp2.txt\"\u001b[0m\u001b[0;34m\u001b[0m\u001b[0;34m\u001b[0m\u001b[0m\n\u001b[1;32m      3\u001b[0m \u001b[0;34m\u001b[0m\u001b[0m\n\u001b[0;32m----> 4\u001b[0;31m \u001b[0mkorean_encoder\u001b[0m\u001b[0;34m(\u001b[0m\u001b[0mfilepath1\u001b[0m\u001b[0;34m)\u001b[0m\u001b[0;34m\u001b[0m\u001b[0;34m\u001b[0m\u001b[0m\n\u001b[0m\u001b[1;32m      5\u001b[0m \u001b[0;31m#korean_encoder(filepath2)\u001b[0m\u001b[0;34m\u001b[0m\u001b[0;34m\u001b[0m\u001b[0;34m\u001b[0m\u001b[0m\n",
      "\u001b[0;32m<ipython-input-12-6cce818874e2>\u001b[0m in \u001b[0;36mkorean_encoder\u001b[0;34m(filepath)\u001b[0m\n\u001b[1;32m      8\u001b[0m     \u001b[0;32mwith\u001b[0m \u001b[0mopen\u001b[0m\u001b[0;34m(\u001b[0m\u001b[0mfilepath\u001b[0m\u001b[0;34m,\u001b[0m \u001b[0;34m\"w\"\u001b[0m\u001b[0;34m,\u001b[0m \u001b[0mencoding\u001b[0m\u001b[0;34m=\u001b[0m\u001b[0;34m\"CP949\"\u001b[0m\u001b[0;34m)\u001b[0m \u001b[0;32mas\u001b[0m \u001b[0mf\u001b[0m\u001b[0;34m:\u001b[0m\u001b[0;34m\u001b[0m\u001b[0;34m\u001b[0m\u001b[0m\n\u001b[1;32m      9\u001b[0m         \u001b[0;32mfor\u001b[0m \u001b[0mline\u001b[0m \u001b[0;32min\u001b[0m \u001b[0mdocs\u001b[0m\u001b[0;34m:\u001b[0m\u001b[0;34m\u001b[0m\u001b[0;34m\u001b[0m\u001b[0m\n\u001b[0;32m---> 10\u001b[0;31m             \u001b[0mprint\u001b[0m\u001b[0;34m(\u001b[0m\u001b[0mline\u001b[0m\u001b[0;34m,\u001b[0m \u001b[0mfile\u001b[0m\u001b[0;34m=\u001b[0m\u001b[0mf\u001b[0m\u001b[0;34m)\u001b[0m\u001b[0;34m\u001b[0m\u001b[0;34m\u001b[0m\u001b[0m\n\u001b[0m",
      "\u001b[0;31mUnicodeEncodeError\u001b[0m: 'cp949' codec can't encode character '\\xa9' in position 2004: illegal multibyte sequence"
     ]
    }
   ],
   "source": [
    "from glob import glob\n",
    "import os\n",
    "\n",
    "os.listdir()\n",
    "glob(\".txt\")\n",
    "filepath1 = \"temp.txt\"\n",
    "filepath2 = \"temp2.txt\"\n",
    "korean_encoder(filepath)\n",
    "korean_encoder(filepath2)"
   ]
  },
  {
   "cell_type": "markdown",
   "metadata": {},
   "source": [
    "## 3. (고오급) 함수 정의하기\n",
    "\n",
    "* 실제 코드를 보고, 어떤 코드 부분을 함수로 바꾸면 좋을지 생각해보자."
   ]
  },
  {
   "cell_type": "code",
   "execution_count": null,
   "metadata": {},
   "outputs": [],
   "source": [
    "from konlpy.tag import Okt\n",
    "import json\n",
    "import os\n",
    "import re\n",
    "from pprint import pprint\n",
    "\n",
    "def text_cleaning(text):\n",
    "    cleaned_text = re.sub(\"[^ㄱ-ㅎㅏ-ㅣ가-힣 ]\", \"\", text)\n",
    "    return cleaned_text\n",
    "\n",
    "def text_tokenizing(text):\n",
    "    tokenized_text = [word for word in okt.morphs(text, stem=True) if word not in SW and len(word) > 1]\n",
    "    return tokenized_text"
   ]
  },
  {
   "cell_type": "code",
   "execution_count": null,
   "metadata": {},
   "outputs": [],
   "source": [
    "%%time\n",
    "\n",
    "# 형태소 분석기\n",
    "okt = Okt()\n",
    "\n",
    "# NSMC(Naver Sentiment Movie Corpus) 학습 데이터를 읽어와서 학습 모듈에 넣을 형태로 변환\n",
    "train_data = [(text_cleaning(line[1]), line[2]) for line in train_docs if text_cleaning(line[1])]\n",
    "train_data = [(text_tokenizing(line[0]), line[1]) for line in train_data if text_tokenizing(line[0])]\n",
    "\n",
    "# NSMC(Naver Sentiment Movie Corpus) 테스트 데이터를 읽어와서 테스트 모듈에 넣을 형태로 변환\n",
    "test_data = [(text_cleaning(line[1]), line[2]) for line in test_docs if text_cleaning(line[1])]\n",
    "test_data = [(text_tokenizing(line[0]), line[1]) for line in test_data if text_tokenizing(line[0])]\n",
    "\n",
    "\n",
    "print(len(train_data))\n",
    "print(len(test_data))\n",
    "print(train_data[0])\n",
    "print(test_data[0])"
   ]
  }
 ],
 "metadata": {
  "kernelspec": {
   "display_name": "Python 3",
   "language": "python",
   "name": "python3"
  },
  "language_info": {
   "codemirror_mode": {
    "name": "ipython",
    "version": 3
   },
   "file_extension": ".py",
   "mimetype": "text/x-python",
   "name": "python",
   "nbconvert_exporter": "python",
   "pygments_lexer": "ipython3",
   "version": "3.6.9"
  }
 },
 "nbformat": 4,
 "nbformat_minor": 2
}
