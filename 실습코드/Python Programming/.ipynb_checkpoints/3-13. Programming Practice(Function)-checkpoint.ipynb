{
 "cells": [
  {
   "cell_type": "markdown",
   "metadata": {
    "id": "XPvkuCp7Mftc"
   },
   "source": [
    "## 1.  누군가의 평균 구하기\n",
    "\n",
    "* 입력으로 숫자가 몇 개 들어올지 모르는 상황에서 받은 모든 입력의 평균을 구하는 함수를 작성해보자."
   ]
  },
  {
   "cell_type": "code",
   "execution_count": null,
   "metadata": {
    "id": "iaSefI2OMfti"
   },
   "outputs": [],
   "source": [
    "def get_average(*args):\n",
    "\n",
    "\n",
    "    return mean"
   ]
  },
  {
   "cell_type": "code",
   "execution_count": null,
   "metadata": {
    "id": "P7QKwoVxMfti"
   },
   "outputs": [],
   "source": [
    "# get_average 함수안에 원하는만큼 숫자 입력하기\n",
    "# 예시 : get_average(70, 80, 90, 50, 70)\n",
    "#mean = get_average(50, 30, 10)\n"
   ]
  },
  {
   "cell_type": "markdown",
   "metadata": {
    "id": "2-eNfOA1Mftj"
   },
   "source": [
    "## 2. 구구단 함수 만들기\n",
    "\n",
    "- 이번에는 for문을 여러개 사용하지 않고, 함수를 만들어서 구구단을 출력해봅시다.\n",
    "\n",
    "\n",
    "\n",
    "- gugudan 함수는 파라미터로 단을 입력받습니다.\n",
    "\n",
    "\n",
    "\n",
    "e.g. gugudan(2) # 2단 출력\n",
    "\n",
    "\n",
    "e.g. gugudan(3) # 3단 출력\n",
    "\n"
   ]
  },
  {
   "cell_type": "code",
   "execution_count": null,
   "metadata": {
    "id": "9zbBg_3ZMftj"
   },
   "outputs": [],
   "source": [
    "def gugudan(dan):\n",
    "\n",
    "    '''\n",
    "    code here\n",
    "    '''\n"
   ]
  },
  {
   "cell_type": "markdown",
   "metadata": {
    "id": "ORdst6RAMftk"
   },
   "source": [
    "## 3. 절대값 계산하기\n",
    "\n",
    "* get_absolute_value 함수는 입력받은 파라미터의 절대값을 반환하는 함수입니다.\n",
    "\n",
    "* 임의의 정수를 입력하면 절대값을 반환하는 함수를 완성해봅시다.\n",
    "\n",
    "\n",
    "e.g. get_absolute_value(-3) # 3\n",
    "\n",
    "e.g. get_absolute_value(10) # 10"
   ]
  },
  {
   "cell_type": "code",
   "execution_count": null,
   "metadata": {
    "id": "z4R2r5yBMftk"
   },
   "outputs": [],
   "source": [
    "def get_absolute_value(number):\n",
    "\n",
    "    '''\n",
    "    code here\n",
    "    '''\n",
    "\n",
    "    return "
   ]
  },
  {
   "cell_type": "code",
   "execution_count": null,
   "metadata": {
    "id": "17jJkIWsRd9c"
   },
   "outputs": [],
   "source": []
  }
 ],
 "metadata": {
  "colab": {
   "collapsed_sections": [],
   "name": "07. Programming Practice(Function).ipynb",
   "provenance": []
  },
  "kernelspec": {
   "display_name": "Python 3",
   "language": "python",
   "name": "python3"
  },
  "language_info": {
   "codemirror_mode": {
    "name": "ipython",
    "version": 3
   },
   "file_extension": ".py",
   "mimetype": "text/x-python",
   "name": "python",
   "nbconvert_exporter": "python",
   "pygments_lexer": "ipython3",
   "version": "3.8.8"
  }
 },
 "nbformat": 4,
 "nbformat_minor": 1
}
